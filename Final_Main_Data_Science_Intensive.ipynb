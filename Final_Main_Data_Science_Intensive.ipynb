{
  "nbformat": 4,
  "nbformat_minor": 0,
  "metadata": {
    "colab": {
      "name": "Final_Main_Data_Science_Intensive.ipynb",
      "provenance": [],
      "collapsed_sections": [],
      "toc_visible": true,
      "include_colab_link": true
    },
    "kernelspec": {
      "display_name": "Python 3",
      "name": "python3"
    }
  },
  "cells": [
    {
      "cell_type": "markdown",
      "metadata": {
        "id": "view-in-github",
        "colab_type": "text"
      },
      "source": [
        "<a href=\"https://colab.research.google.com/github/lizstangle/Winter_Intensive_2021/blob/main/Final_Main_Data_Science_Intensive.ipynb\" target=\"_parent\"><img src=\"https://colab.research.google.com/assets/colab-badge.svg\" alt=\"Open In Colab\"/></a>"
      ]
    },
    {
      "cell_type": "markdown",
      "metadata": {
        "id": "RMb52AqvPZ2S"
      },
      "source": [
        "# DEEP LEARNING FOR IMAGE CLASSIFICATION\r\n",
        "### The Make School Winter 2021 Data Science Intensive <br>\r\n",
        "\r\n",
        "Instructor: Joseph Catanzarite <br>\r\n",
        "Dates: 07 - 12 Jan 2021 \r\n"
      ]
    },
    {
      "cell_type": "markdown",
      "metadata": {
        "id": "OvwDLZByXBWP"
      },
      "source": [
        "<img src=\"https://medmnist.github.io/assets/overview.jpg\">"
      ]
    },
    {
      "cell_type": "markdown",
      "metadata": {
        "id": "g11wo0jEVNnb"
      },
      "source": [
        "<table class=\"tfo-notebook-buttons\" align=\"left\">\n",
        "  <td>\n",
        "    <a target=\"_blank\" href=\"https://colab.research.google.com/drive/19y0pHqFsaN9-ehvCcuiXFL7FryIBXRTf?usp=sharing\" \n",
        "    ><img src=\"https://www.tensorflow.org/images/colab_logo_32px.png\" />Run in Google Colab</a>\n",
        "  </td>\n",
        "\n",
        "</table>"
      ]
    },
    {
      "cell_type": "markdown",
      "metadata": {
        "id": "ECiYBHlNBdhc"
      },
      "source": [
        "\r\n",
        "\r\n",
        "## Goals\r\n",
        "* Introduce Juniors to Make School’s Data Science concentration\r\n",
        "* Allow Seniors an opportunity to exercise and further develop their Data Science skills\r\n",
        "\r\n",
        "\r\n",
        "\r\n",
        "\r\n",
        "\r\n",
        "## Learning Objectives: <br>\r\n",
        "On completion, the student will have gained familiarity with \r\n",
        "* The basic pattern of the data science workflow\r\n",
        "* The TensorFlow/Keras deep learning library\r\n",
        "* Google Colab and the magic of cloud computing\r\n",
        "\r\n",
        "AND\r\n",
        "\r\n",
        "* Enough knowledge to create a simple Neural Network Classifier project\r\n",
        "\r\n",
        "\r\n"
      ]
    },
    {
      "cell_type": "markdown",
      "metadata": {
        "id": "jYysdyb-CaWM"
      },
      "source": [
        "# Part 1. \r\n",
        "## How to build a neural network to classify clothing items in the Fashion MNIST dataset\r\n",
        "This is a modified version of the original [TensorFlow tutorial](https://www.tensorflow.org/tutorials/keras/classification)."
      ]
    },
    {
      "cell_type": "markdown",
      "metadata": {
        "id": "FbVhjPpzn6BM"
      },
      "source": [
        "This guide shows you how to train a neural network model to classify images of clothing, like sneakers and shirts. It's okay if you don't understand all the details; this is a fast-paced overview of a complete TensorFlow program with the details explained as you go.\n",
        "\n",
        "This guide uses [tf.keras](https://www.tensorflow.org/guide/keras), a high-level API to build and train models in TensorFlow."
      ]
    },
    {
      "cell_type": "markdown",
      "metadata": {
        "id": "yR0EdgrLCaWR"
      },
      "source": [
        "## 1. Import the Fashion MNIST dataset"
      ]
    },
    {
      "cell_type": "markdown",
      "metadata": {
        "id": "DLdCchMdCaWQ"
      },
      "source": [
        "We'll work with the [Fashion MNIST](https://github.com/zalandoresearch/fashion-mnist) dataset which contains 70,000 grayscale images in 10 categories. The images show individual articles of clothing at low resolution (28 by 28 pixels), as seen here:\n",
        "\n",
        "<table>\n",
        "  <tr><td>\n",
        "    <img src=\"https://tensorflow.org/images/fashion-mnist-sprite.png\"\n",
        "         alt=\"Fashion MNIST sprite\"  width=\"600\">\n",
        "  </td></tr>\n",
        "  <tr><td align=\"center\">\n",
        "    <b>Figure 1.</b> <a href=\"https://github.com/zalandoresearch/fashion-mnist\">Fashion-MNIST samples</a> (by Zalando, MIT License).<br/>&nbsp;\n",
        "  </td></tr>\n",
        "</table>\n",
        "\n",
        "Fashion MNIST is intended as a drop-in replacement for the classic [MNIST](http://yann.lecun.com/exdb/mnist/) dataset—often used as the \"Hello, World\" of machine learning programs for computer vision. The MNIST dataset contains images of handwritten digits (0, 1, 2, etc.) in a format identical to that of the articles of clothing you'll use here.\n",
        "\n",
        "This guide uses Fashion MNIST for variety, and because it's a slightly more challenging problem than regular MNIST. Both datasets are relatively small and are used to verify that an algorithm works as expected. They're good starting points to test and debug code.\n",
        "\n",
        "Here, 60,000 images are used to *train* the network and 10,000 images to *evaluate* how accurately the network learned to classify images. You can access the Fashion MNIST directly from TensorFlow. Import and load the Fashion MNIST data directly from TensorFlow:"
      ]
    },
    {
      "cell_type": "code",
      "metadata": {
        "id": "dzLKpmZICaWN",
        "colab": {
          "base_uri": "https://localhost:8080/"
        },
        "outputId": "267dc4c7-1448-46a3-cf3e-17347fc2068a"
      },
      "source": [
        "# TensorFlow and tf.keras\n",
        "import tensorflow as tf\n",
        "\n",
        "# Helper libraries\n",
        "import numpy as np\n",
        "import matplotlib.pyplot as plt\n",
        "\n",
        "print(tf.__version__)"
      ],
      "execution_count": 1,
      "outputs": [
        {
          "output_type": "stream",
          "text": [
            "2.4.0\n"
          ],
          "name": "stdout"
        }
      ]
    },
    {
      "cell_type": "code",
      "metadata": {
        "id": "7MqDQO0KCaWS",
        "colab": {
          "base_uri": "https://localhost:8080/"
        },
        "outputId": "2c1c7f6d-029c-4bd2-9d77-fc0e467676fb"
      },
      "source": [
        "fashion_mnist = tf.keras.datasets.fashion_mnist\n",
        "\n",
        "(train_images, train_labels), (test_images, test_labels) = fashion_mnist.load_data()\n",
        "# loaded data (train_images, train_labels, test-Images, test_labels) saved to variables "
      ],
      "execution_count": 2,
      "outputs": [
        {
          "output_type": "stream",
          "text": [
            "Downloading data from https://storage.googleapis.com/tensorflow/tf-keras-datasets/train-labels-idx1-ubyte.gz\n",
            "32768/29515 [=================================] - 0s 0us/step\n",
            "Downloading data from https://storage.googleapis.com/tensorflow/tf-keras-datasets/train-images-idx3-ubyte.gz\n",
            "26427392/26421880 [==============================] - 0s 0us/step\n",
            "Downloading data from https://storage.googleapis.com/tensorflow/tf-keras-datasets/t10k-labels-idx1-ubyte.gz\n",
            "8192/5148 [===============================================] - 0s 0us/step\n",
            "Downloading data from https://storage.googleapis.com/tensorflow/tf-keras-datasets/t10k-images-idx3-ubyte.gz\n",
            "4423680/4422102 [==============================] - 0s 0us/step\n"
          ],
          "name": "stdout"
        }
      ]
    },
    {
      "cell_type": "markdown",
      "metadata": {
        "id": "t9FDsUlxCaWW"
      },
      "source": [
        "Loading the dataset returns four NumPy arrays:\n",
        "\n",
        "* The `train_images` and `train_labels` arrays are the *training set*—the data the model uses to learn.\n",
        "* The model is tested against the *test set*, the `test_images`, and `test_labels` arrays.\n",
        "\n",
        "The images are 28x28 NumPy arrays, with pixel values ranging from 0 to 255. The *labels* are an array of integers, ranging from 0 to 9. These correspond to the *class* of clothing the image represents:\n",
        "\n",
        "<table>\n",
        "  <tr>\n",
        "    <th>Label</th>\n",
        "    <th>Class</th>\n",
        "  </tr>\n",
        "  <tr>\n",
        "    <td>0</td>\n",
        "    <td>T-shirt/top</td>\n",
        "  </tr>\n",
        "  <tr>\n",
        "    <td>1</td>\n",
        "    <td>Trouser</td>\n",
        "  </tr>\n",
        "    <tr>\n",
        "    <td>2</td>\n",
        "    <td>Pullover</td>\n",
        "  </tr>\n",
        "    <tr>\n",
        "    <td>3</td>\n",
        "    <td>Dress</td>\n",
        "  </tr>\n",
        "    <tr>\n",
        "    <td>4</td>\n",
        "    <td>Coat</td>\n",
        "  </tr>\n",
        "    <tr>\n",
        "    <td>5</td>\n",
        "    <td>Sandal</td>\n",
        "  </tr>\n",
        "    <tr>\n",
        "    <td>6</td>\n",
        "    <td>Shirt</td>\n",
        "  </tr>\n",
        "    <tr>\n",
        "    <td>7</td>\n",
        "    <td>Sneaker</td>\n",
        "  </tr>\n",
        "    <tr>\n",
        "    <td>8</td>\n",
        "    <td>Bag</td>\n",
        "  </tr>\n",
        "    <tr>\n",
        "    <td>9</td>\n",
        "    <td>Ankle boot</td>\n",
        "  </tr>\n",
        "</table>\n",
        "\n",
        "Each image is mapped to a single label. Since the *class names* are not included with the dataset, store them here to use later when plotting the images:"
      ]
    },
    {
      "cell_type": "code",
      "metadata": {
        "id": "IjnLH5S2CaWx"
      },
      "source": [
        "class_names = ['T-shirt/top', 'Trouser', 'Pullover', 'Dress', 'Coat',\n",
        "               'Sandal', 'Shirt', 'Sneaker', 'Bag', 'Ankle boot']"
      ],
      "execution_count": 3,
      "outputs": []
    },
    {
      "cell_type": "markdown",
      "metadata": {
        "id": "Brm0b_KACaWX"
      },
      "source": [
        "## 2. Explore the data\n",
        "\n",
        "Let's explore the format of the dataset before training the model. The following shows there are 60,000 images in the training set, with each image represented as 28 x 28 pixels:"
      ]
    },
    {
      "cell_type": "code",
      "metadata": {
        "id": "zW5k_xz1CaWX",
        "colab": {
          "base_uri": "https://localhost:8080/"
        },
        "outputId": "6b55c4c9-114d-4eda-897a-b55fd6728461"
      },
      "source": [
        "train_images.shape"
      ],
      "execution_count": 4,
      "outputs": [
        {
          "output_type": "execute_result",
          "data": {
            "text/plain": [
              "(60000, 28, 28)"
            ]
          },
          "metadata": {
            "tags": []
          },
          "execution_count": 4
        }
      ]
    },
    {
      "cell_type": "markdown",
      "metadata": {
        "id": "cIAcvQqMCaWf"
      },
      "source": [
        "Likewise, there are 60,000 labels in the training set:"
      ]
    },
    {
      "cell_type": "code",
      "metadata": {
        "id": "TRFYHB2mCaWb",
        "colab": {
          "base_uri": "https://localhost:8080/"
        },
        "outputId": "ccd82c57-8a99-4fcb-9ee8-a92095b4d589"
      },
      "source": [
        "len(train_labels)"
      ],
      "execution_count": 5,
      "outputs": [
        {
          "output_type": "execute_result",
          "data": {
            "text/plain": [
              "60000"
            ]
          },
          "metadata": {
            "tags": []
          },
          "execution_count": 5
        }
      ]
    },
    {
      "cell_type": "markdown",
      "metadata": {
        "id": "YSlYxFuRCaWk"
      },
      "source": [
        "Each label is an integer between 0 and 9:"
      ]
    },
    {
      "cell_type": "code",
      "metadata": {
        "id": "XKnCTHz4CaWg",
        "colab": {
          "base_uri": "https://localhost:8080/"
        },
        "outputId": "71a3213e-e7f7-44a9-94aa-589429c2b30b"
      },
      "source": [
        "np.unique(train_labels)"
      ],
      "execution_count": 6,
      "outputs": [
        {
          "output_type": "execute_result",
          "data": {
            "text/plain": [
              "array([0, 1, 2, 3, 4, 5, 6, 7, 8, 9], dtype=uint8)"
            ]
          },
          "metadata": {
            "tags": []
          },
          "execution_count": 6
        }
      ]
    },
    {
      "cell_type": "markdown",
      "metadata": {
        "id": "TMPI88iZpO2T"
      },
      "source": [
        "There are 10,000 images in the test set. Again, each image is represented as 28 x 28 pixels:"
      ]
    },
    {
      "cell_type": "code",
      "metadata": {
        "id": "2KFnYlcwCaWl",
        "colab": {
          "base_uri": "https://localhost:8080/"
        },
        "outputId": "72823cae-29ea-44a7-ea3f-8765ec89621b"
      },
      "source": [
        "test_images.shape"
      ],
      "execution_count": 7,
      "outputs": [
        {
          "output_type": "execute_result",
          "data": {
            "text/plain": [
              "(10000, 28, 28)"
            ]
          },
          "metadata": {
            "tags": []
          },
          "execution_count": 7
        }
      ]
    },
    {
      "cell_type": "markdown",
      "metadata": {
        "id": "rd0A0Iu0CaWq"
      },
      "source": [
        "And the test set contains 10,000 images labels:"
      ]
    },
    {
      "cell_type": "code",
      "metadata": {
        "id": "iJmPr5-ACaWn",
        "colab": {
          "base_uri": "https://localhost:8080/"
        },
        "outputId": "e8cdd619-d99b-4939-a496-187b50def22e"
      },
      "source": [
        "len(test_labels)"
      ],
      "execution_count": 8,
      "outputs": [
        {
          "output_type": "execute_result",
          "data": {
            "text/plain": [
              "10000"
            ]
          },
          "metadata": {
            "tags": []
          },
          "execution_count": 8
        }
      ]
    },
    {
      "cell_type": "markdown",
      "metadata": {
        "id": "ES6uQoLKCaWr"
      },
      "source": [
        "## 3. Preprocess the data\n",
        "\n",
        "The data must be preprocessed before training the network. If you inspect the first image in the training set, you will see that the pixel values fall in the range of 0 to 255:"
      ]
    },
    {
      "cell_type": "code",
      "metadata": {
        "id": "m4VEw8Ud9Quh",
        "colab": {
          "base_uri": "https://localhost:8080/",
          "height": 265
        },
        "outputId": "0b1d59e6-c0f1-495d-bb53-f4633bdeaec1"
      },
      "source": [
        "plt.figure()\n",
        "plt.imshow(train_images[0])\n",
        "plt.colorbar()\n",
        "plt.grid(False)\n",
        "plt.show()"
      ],
      "execution_count": 9,
      "outputs": [
        {
          "output_type": "display_data",
          "data": {
            "image/png": "[encoded data removed]",
            "text/plain": [
              "<Figure size 432x288 with 2 Axes>"
            ]
          },
          "metadata": {
            "tags": [],
            "needs_background": "light"
          }
        }
      ]
    },
    {
      "cell_type": "markdown",
      "metadata": {
        "id": "Wz7l27Lz9S1P"
      },
      "source": [
        "Scale these values to a range of 0 to 1 before feeding them to the neural network model. To do so, divide the values by 255. It's important that the *training set* and the *testing set* be preprocessed in the same way:"
      ]
    },
    {
      "cell_type": "code",
      "metadata": {
        "id": "bW5WzIPlCaWv",
        "colab": {
          "base_uri": "https://localhost:8080/"
        },
        "outputId": "1857c7c3-4b3f-4bba-d764-1b94f3f44735"
      },
      "source": [
        "print(\"train shape is \", train_images.shape)\n",
        "\n",
        "print(\"test shape is \", test_images.shape)\n",
        "\n",
        "train_images = train_images / 255.0\n",
        "\n",
        "test_images = test_images / 255.0"
      ],
      "execution_count": 10,
      "outputs": [
        {
          "output_type": "stream",
          "text": [
            "train shape is  (60000, 28, 28)\n",
            "test shape is  (10000, 28, 28)\n"
          ],
          "name": "stdout"
        }
      ]
    },
    {
      "cell_type": "markdown",
      "metadata": {
        "id": "Ee638AlnCaWz"
      },
      "source": [
        "To verify that the data is in the correct format and that you're ready to build and train the network, let's display the first 25 images from the *training set* and display the class name below each image."
      ]
    },
    {
      "cell_type": "code",
      "metadata": {
        "id": "oZTImqg_CaW1",
        "colab": {
          "base_uri": "https://localhost:8080/",
          "height": 589
        },
        "outputId": "fc2d9fcc-5d13-4b4a-9222-96f33f9a84af"
      },
      "source": [
        "plt.figure(figsize=(10,10))\n",
        "for i in range(25):\n",
        "    plt.subplot(5,5,i+1)\n",
        "    plt.xticks([])\n",
        "    plt.yticks([])\n",
        "    plt.grid(False)\n",
        "    plt.imshow(train_images[i], cmap=plt.cm.binary)\n",
        "    plt.xlabel(class_names[train_labels[i]])\n",
        "plt.show()"
      ],
      "execution_count": 11,
      "outputs": [
        {
          "output_type": "display_data",
          "data": {
            "image/png": "[encoded data removed]",
            "text/plain": [
              "<Figure size 720x720 with 25 Axes>"
            ]
          },
          "metadata": {
            "tags": []
          }
        }
      ]
    },
    {
      "cell_type": "markdown",
      "metadata": {
        "id": "59veuiEZCaW4"
      },
      "source": [
        "## 4. Build the neural network model\n",
        "\n",
        "Building the neural network requires configuring the layers of the model, then compiling the model."
      ]
    },
    {
      "cell_type": "markdown",
      "metadata": {
        "id": "Gxg1XGm0eOBy"
      },
      "source": [
        "### Set up the layers\n",
        "\n",
        "The basic building block of a neural network is the *layer*. Layers extract representations from the data fed into them. Hopefully, these representations are meaningful for the problem at hand.\n",
        "\n",
        "Most of deep learning consists of chaining together simple layers. Most layers, such as `tf.keras.layers.Dense`, have parameters that are learned during training."
      ]
    },
    {
      "cell_type": "code",
      "metadata": {
        "id": "9ODch-OFCaW4"
      },
      "source": [
        "model = tf.keras.Sequential([\n",
        "    tf.keras.layers.Flatten(input_shape=(28, 28)),\n",
        "    tf.keras.layers.Dense(128, activation='relu'),\n",
        "    tf.keras.layers.Dense(10)\n",
        "])"
      ],
      "execution_count": 12,
      "outputs": []
    },
    {
      "cell_type": "markdown",
      "metadata": {
        "id": "gut8A_7rCaW6"
      },
      "source": [
        "The first layer in this network, `tf.keras.layers.Flatten`, transforms the format of the images from a two-dimensional array (of 28 by 28 pixels) to a one-dimensional array (of 28 * 28 = 784 pixels). Think of this layer as unstacking rows of pixels in the image and lining them up. This layer has no parameters to learn; it only reformats the data.\n",
        "\n",
        "After the pixels are flattened, the network consists of a sequence of two `tf.keras.layers.Dense` layers. These are densely connected, or fully connected, neural layers. The first `Dense` layer has 128 nodes (or neurons). The second (and last) layer returns a logits array with length of 10. Each node contains a score that indicates the current image belongs to one of the 10 classes.\n",
        "\n",
        "### Compile the model\n",
        "\n",
        "Before the model is ready for training, it needs a few more settings. These are added during the model's *compile* step:\n",
        "\n",
        "* *Loss function* —This measures how accurate the model is during training. You want to minimize this function to \"steer\" the model in the right direction.\n",
        "* *Optimizer* —This is how the model is updated based on the data it sees in order to find the minimum of the loss function.\n",
        "* *Metrics* —Used to monitor the training and testing steps. The following example uses *accuracy*, the fraction of the images that are correctly classified."
      ]
    },
    {
      "cell_type": "code",
      "metadata": {
        "id": "Lhan11blCaW7"
      },
      "source": [
        "model.compile(optimizer='adam',\n",
        "              loss=tf.keras.losses.SparseCategoricalCrossentropy(from_logits=True),\n",
        "              metrics=['accuracy'])"
      ],
      "execution_count": 13,
      "outputs": []
    },
    {
      "cell_type": "markdown",
      "metadata": {
        "id": "qKF6uW-BCaW-"
      },
      "source": [
        "## 5. Train the model\n",
        "\n",
        "Training the neural network model requires the following steps:\n",
        "\n",
        "1. Feed the training data to the model. In this example, the *training* data is in the `train_images` and `train_labels` arrays.\n",
        "2. The model learns from the training data to associate images and labels.\n",
        "3. You ask the model to make predictions about a *test* set—in this example, the `test_images` array. Given an image (say of an `ankle boot`, or a `dress`), the model does its best to predict the right label.\n",
        "4. Check how well the predictions match the labels from the `test_labels` array.\n"
      ]
    },
    {
      "cell_type": "markdown",
      "metadata": {
        "id": "Z4P4zIV7E28Z"
      },
      "source": [
        "### Fit the model to the data\n",
        "\n",
        "To start training,  call the `model.fit` method—so called because it \"fits\" the model to the training data:"
      ]
    },
    {
      "cell_type": "code",
      "metadata": {
        "id": "xvwvpA64CaW_",
        "colab": {
          "base_uri": "https://localhost:8080/"
        },
        "outputId": "b7264a95-dca2-4fce-999b-3b634f31be9a"
      },
      "source": [
        "model.fit(train_images, train_labels, epochs=10)"
      ],
      "execution_count": 14,
      "outputs": [
        {
          "output_type": "stream",
          "text": [
            "Epoch 1/10\n",
            "1875/1875 [==============================] - 4s 2ms/step - loss: 0.6209 - accuracy: 0.7823\n",
            "Epoch 2/10\n",
            "1875/1875 [==============================] - 4s 2ms/step - loss: 0.3767 - accuracy: 0.8653\n",
            "Epoch 3/10\n",
            "1875/1875 [==============================] - 4s 2ms/step - loss: 0.3429 - accuracy: 0.8771\n",
            "Epoch 4/10\n",
            "1875/1875 [==============================] - 4s 2ms/step - loss: 0.3140 - accuracy: 0.8846\n",
            "Epoch 5/10\n",
            "1875/1875 [==============================] - 4s 2ms/step - loss: 0.2970 - accuracy: 0.8911\n",
            "Epoch 6/10\n",
            "1875/1875 [==============================] - 4s 2ms/step - loss: 0.2809 - accuracy: 0.8959\n",
            "Epoch 7/10\n",
            "1875/1875 [==============================] - 3s 2ms/step - loss: 0.2681 - accuracy: 0.9003\n",
            "Epoch 8/10\n",
            "1875/1875 [==============================] - 4s 2ms/step - loss: 0.2551 - accuracy: 0.9059\n",
            "Epoch 9/10\n",
            "1875/1875 [==============================] - 4s 2ms/step - loss: 0.2414 - accuracy: 0.9114\n",
            "Epoch 10/10\n",
            "1875/1875 [==============================] - 4s 2ms/step - loss: 0.2335 - accuracy: 0.9120\n"
          ],
          "name": "stdout"
        },
        {
          "output_type": "execute_result",
          "data": {
            "text/plain": [
              "<tensorflow.python.keras.callbacks.History at 0x7f02652440b8>"
            ]
          },
          "metadata": {
            "tags": []
          },
          "execution_count": 14
        }
      ]
    },
    {
      "cell_type": "markdown",
      "metadata": {
        "id": "W3ZVOhugCaXA"
      },
      "source": [
        "As the model trains, the *loss* and *accuracy* metrics are displayed. <br>\r\n",
        "Remember that during training, the model figures out how to minimize the *loss* function -- which maximizes its ability to predict labels for each image. <br> \r\n",
        "On the other hand, *accuracy* is a more intuitive measure of how well the model can predict image labels.<br>\r\n",
        "This model reaches an accuracy of about 0.91 (or 91%) on the training data."
      ]
    },
    {
      "cell_type": "markdown",
      "metadata": {
        "id": "wCpr6DGyE28h"
      },
      "source": [
        "### Evaluate the accuracy\n",
        "\n",
        "Next, compare how the model performs on the *test* dataset:"
      ]
    },
    {
      "cell_type": "code",
      "metadata": {
        "id": "VflXLEeECaXC",
        "colab": {
          "base_uri": "https://localhost:8080/"
        },
        "outputId": "45b6d793-684c-4e5d-bd9d-a3851a95d1d7"
      },
      "source": [
        "test_loss, test_acc = model.evaluate(test_images,  test_labels, verbose=2)\n",
        "\n",
        "print('\\nTest accuracy:', test_acc)"
      ],
      "execution_count": 15,
      "outputs": [
        {
          "output_type": "stream",
          "text": [
            "313/313 - 0s - loss: 0.3428 - accuracy: 0.8788\n",
            "\n",
            "Test accuracy: 0.8787999749183655\n"
          ],
          "name": "stdout"
        }
      ]
    },
    {
      "cell_type": "markdown",
      "metadata": {
        "id": "yWfgsmVXCaXG"
      },
      "source": [
        "It turns out that the accuracy on the test dataset is a little less than the accuracy on the training dataset. This gap between training accuracy and test accuracy represents *overfitting*. Overfitting happens when a machine learning model performs worse on new, previously unseen inputs than it does on the training data. An overfitted model \"memorizes\" the noise and details in the training dataset to a point where it negatively impacts the performance of the model on the new data. For more information, see the following:\n",
        "*   [Demonstrate overfitting](https://www.tensorflow.org/tutorials/keras/overfit_and_underfit#demonstrate_overfitting)\n",
        "*   [Strategies to prevent overfitting](https://www.tensorflow.org/tutorials/keras/overfit_and_underfit#strategies_to_prevent_overfitting)"
      ]
    },
    {
      "cell_type": "markdown",
      "metadata": {
        "id": "v-PyD1SYE28q"
      },
      "source": [
        "### Make predictions\n",
        "\n",
        "The label prediction comes from the model's 10 linear outputs, which are called [logits](https://developers.google.com/machine-learning/glossary#logits). <br>\n",
        "\n",
        "Remember that there is one output for each of the ten image classes, and that the mapping of output positions to labels is<br>\n",
        "'0': 'T-shirt/top'<br>\n",
        "'1': 'Trouser'<br>\n",
        "'2': 'Pullover'<br>\n",
        "'3': 'Dress'<br>\n",
        "'4': 'Coat'<br>\n",
        "'5': 'Sandal'<br>\n",
        "'6': 'Shirt'<br>\n",
        "'7': 'Sneaker'<br>\n",
        "'8': 'Bag'<br>\n",
        "'9': 'Ankle boot'<br>\n",
        "\n",
        "As we might expect, the output with the highest *logit* value corresponds to the class label prediction of the model. <br>\n",
        "\n",
        "So if, for a given image, the 3rd logit output is highest, the label prediction is 'Pullover'\n",
        "\n",
        "We can make our model more interpretable by converting the *logit* outputs to *probabilities*, which tell us how confident our model is in assigning a label for each class. <br>\n",
        "\n",
        "To accomplish this conversion of logits to class probabilites we add on a `softmax layer`."
      ]
    },
    {
      "cell_type": "code",
      "metadata": {
        "id": "DnfNA0CrQLSD"
      },
      "source": [
        "probability_model = tf.keras.Sequential([model, \n",
        "                                         tf.keras.layers.Softmax()])"
      ],
      "execution_count": 16,
      "outputs": []
    },
    {
      "cell_type": "code",
      "metadata": {
        "id": "Gl91RPhdCaXI"
      },
      "source": [
        "predictions = probability_model.predict(test_images)"
      ],
      "execution_count": 17,
      "outputs": []
    },
    {
      "cell_type": "markdown",
      "metadata": {
        "id": "x9Kk1voUCaXJ"
      },
      "source": [
        "Here, the model has predicted the label for each image in the testing set. Let's take a look at the first prediction:"
      ]
    },
    {
      "cell_type": "code",
      "metadata": {
        "id": "3DmJEUinCaXK",
        "colab": {
          "base_uri": "https://localhost:8080/"
        },
        "outputId": "9c76d84c-a2e3-49ae-a76b-987ec97143c8"
      },
      "source": [
        "predictions[34]"
      ],
      "execution_count": 18,
      "outputs": [
        {
          "output_type": "execute_result",
          "data": {
            "text/plain": [
              "array([1.2052439e-11, 1.3657495e-14, 1.7435084e-10, 6.0265470e-13,\n",
              "       1.1229342e-09, 1.4256887e-10, 7.5841514e-14, 2.9575129e-19,\n",
              "       1.0000000e+00, 1.2226401e-21], dtype=float32)"
            ]
          },
          "metadata": {
            "tags": []
          },
          "execution_count": 18
        }
      ]
    },
    {
      "cell_type": "markdown",
      "metadata": {
        "id": "-hw1hgeSCaXN"
      },
      "source": [
        "A prediction is an array of 10 numbers. They represent the model's \"confidence\" that the image corresponds to each of the 10 different articles of clothing. You can see which label has the highest confidence value:"
      ]
    },
    {
      "cell_type": "code",
      "metadata": {
        "id": "qsqenuPnCaXO",
        "colab": {
          "base_uri": "https://localhost:8080/"
        },
        "outputId": "416f1683-7945-4672-f191-1b0e03d4705d"
      },
      "source": [
        "np.argmax(predictions[34])"
      ],
      "execution_count": 19,
      "outputs": [
        {
          "output_type": "execute_result",
          "data": {
            "text/plain": [
              "8"
            ]
          },
          "metadata": {
            "tags": []
          },
          "execution_count": 19
        }
      ]
    },
    {
      "cell_type": "markdown",
      "metadata": {
        "id": "E51yS7iCCaXO"
      },
      "source": [
        "So, the model is most confident that this image is an ankle boot, or `class_names[9]`. Examining the test label shows that this classification is correct:"
      ]
    },
    {
      "cell_type": "code",
      "metadata": {
        "id": "Sd7Pgsu6CaXP",
        "colab": {
          "base_uri": "https://localhost:8080/"
        },
        "outputId": "db8df4b4-e450-4efc-cf8c-1019c02c7c43"
      },
      "source": [
        "test_labels[34]"
      ],
      "execution_count": 20,
      "outputs": [
        {
          "output_type": "execute_result",
          "data": {
            "text/plain": [
              "8"
            ]
          },
          "metadata": {
            "tags": []
          },
          "execution_count": 20
        }
      ]
    },
    {
      "cell_type": "markdown",
      "metadata": {
        "id": "ygh2yYC972ne"
      },
      "source": [
        "Graph this to look at the full set of 10 class predictions."
      ]
    },
    {
      "cell_type": "code",
      "metadata": {
        "id": "DvYmmrpIy6Y1"
      },
      "source": [
        "def plot_image(i, predictions_array, true_label, img):\n",
        "  true_label, img = true_label[i], img[i]\n",
        "  plt.grid(False)\n",
        "  plt.xticks([])\n",
        "  plt.yticks([])\n",
        "\n",
        "  plt.imshow(img, cmap=plt.cm.binary)\n",
        "\n",
        "  predicted_label = np.argmax(predictions_array)\n",
        "  if predicted_label == true_label:\n",
        "    color = 'blue'\n",
        "  else:\n",
        "    color = 'red'\n",
        "\n",
        "  plt.xlabel(\"{} {:2.0f}% ({})\".format(class_names[predicted_label],\n",
        "                                100*np.max(predictions_array),\n",
        "                                class_names[true_label]),\n",
        "                                color=color)\n",
        "\n",
        "def plot_value_array(i, predictions_array, true_label):\n",
        "  true_label = true_label[i]\n",
        "  plt.grid(False)\n",
        "  plt.xticks(range(10))\n",
        "  plt.yticks([])\n",
        "  thisplot = plt.bar(range(10), predictions_array, color=\"#777777\")\n",
        "  plt.ylim([0, 1])\n",
        "  predicted_label = np.argmax(predictions_array)\n",
        "\n",
        "  thisplot[predicted_label].set_color('red')\n",
        "  thisplot[true_label].set_color('blue')"
      ],
      "execution_count": 21,
      "outputs": []
    },
    {
      "cell_type": "markdown",
      "metadata": {
        "id": "Zh9yABaME29S"
      },
      "source": [
        "### Verify predictions on unseen test images\n",
        "\n",
        "With the trained model, you can predict labels for any images from the test set.<br>"
      ]
    },
    {
      "cell_type": "markdown",
      "metadata": {
        "id": "d4Ov9OFDMmOD"
      },
      "source": [
        "Let's look at the 0th image, predictions, and prediction array. Correct prediction labels are blue and incorrect prediction labels are red. The number gives the percentage (out of 100) for the predicted label."
      ]
    },
    {
      "cell_type": "code",
      "metadata": {
        "id": "HV5jw-5HwSmO",
        "colab": {
          "base_uri": "https://localhost:8080/",
          "height": 211
        },
        "outputId": "48f1e5f3-43de-4e06-e381-d637f361b87a"
      },
      "source": [
        "i = 0\n",
        "plt.figure(figsize=(6,3))\n",
        "plt.subplot(1,2,1)\n",
        "plot_image(i, predictions[i], test_labels, test_images)\n",
        "plt.subplot(1,2,2)\n",
        "plot_value_array(i, predictions[i],  test_labels)\n",
        "plt.show()"
      ],
      "execution_count": 22,
      "outputs": [
        {
          "output_type": "display_data",
          "data": {
            "image/png": "[encoded data removed]",
            "text/plain": [
              "<Figure size 432x216 with 2 Axes>"
            ]
          },
          "metadata": {
            "tags": [],
            "needs_background": "light"
          }
        }
      ]
    },
    {
      "cell_type": "code",
      "metadata": {
        "id": "Ko-uzOufSCSe",
        "colab": {
          "base_uri": "https://localhost:8080/",
          "height": 211
        },
        "outputId": "7f8a2f86-0d9f-4851-a9fc-c2f4ec2480f2"
      },
      "source": [
        "i = 34\n",
        "plt.figure(figsize=(6,3))\n",
        "plt.subplot(1,2,1)\n",
        "plot_image(i, predictions[i], test_labels, test_images)\n",
        "plt.subplot(1,2,2)\n",
        "plot_value_array(i, predictions[i],  test_labels)\n",
        "plt.show()"
      ],
      "execution_count": 23,
      "outputs": [
        {
          "output_type": "display_data",
          "data": {
            "image/png": "[encoded data removed]",
            "text/plain": [
              "<Figure size 432x216 with 2 Axes>"
            ]
          },
          "metadata": {
            "tags": [],
            "needs_background": "light"
          }
        }
      ]
    },
    {
      "cell_type": "markdown",
      "metadata": {
        "id": "kgdvGD52CaXR"
      },
      "source": [
        "Let's plot several images with their predictions. Note that the model can be wrong even when very confident."
      ]
    },
    {
      "cell_type": "code",
      "metadata": {
        "id": "hQlnbqaw2Qu_",
        "colab": {
          "base_uri": "https://localhost:8080/",
          "height": 729
        },
        "outputId": "025d5753-9b35-492a-91fc-b0cf2f736056"
      },
      "source": [
        "# Plot the first X test images, their predicted labels, and the true labels.\n",
        "# Color correct predictions in blue and incorrect predictions in red.\n",
        "num_rows = 5\n",
        "num_cols = 3\n",
        "num_images = num_rows*num_cols\n",
        "plt.figure(figsize=(2*2*num_cols, 2*num_rows))\n",
        "for i in range(num_images):\n",
        "  plt.subplot(num_rows, 2*num_cols, 2*i+1)\n",
        "  plot_image(i, predictions[i], test_labels, test_images)\n",
        "  plt.subplot(num_rows, 2*num_cols, 2*i+2)\n",
        "  plot_value_array(i, predictions[i], test_labels)\n",
        "plt.tight_layout()\n",
        "plt.show()"
      ],
      "execution_count": 24,
      "outputs": [
        {
          "output_type": "display_data",
          "data": {
            "image/png": "[encoded data removed]",
            "text/plain": [
              "<Figure size 864x720 with 30 Axes>"
            ]
          },
          "metadata": {
            "tags": [],
            "needs_background": "light"
          }
        }
      ]
    },
    {
      "cell_type": "markdown",
      "metadata": {
        "id": "R32zteKHCaXT"
      },
      "source": [
        "## 6. Use the trained model\n",
        "\n",
        "Finally, use the trained model to make a prediction about a single test image."
      ]
    },
    {
      "cell_type": "code",
      "metadata": {
        "id": "yRJ7JU7JCaXT",
        "colab": {
          "base_uri": "https://localhost:8080/"
        },
        "outputId": "63edc299-6059-475f-8f03-31f96798078c"
      },
      "source": [
        "# Grab an image from the test dataset.\n",
        "img = test_images[1]\n",
        "\n",
        "print(img.shape)"
      ],
      "execution_count": 25,
      "outputs": [
        {
          "output_type": "stream",
          "text": [
            "(28, 28)\n"
          ],
          "name": "stdout"
        }
      ]
    },
    {
      "cell_type": "markdown",
      "metadata": {
        "id": "vz3bVp21CaXV"
      },
      "source": [
        "`tf.keras` models are optimized to make predictions on a *batch*, or collection, of examples at once. Accordingly, even though you're using a single image, you need to add it to a list:"
      ]
    },
    {
      "cell_type": "code",
      "metadata": {
        "id": "lDFh5yF_CaXW",
        "colab": {
          "base_uri": "https://localhost:8080/"
        },
        "outputId": "30b09288-e77f-4717-ece8-8717127c34d1"
      },
      "source": [
        "# Add the image to a batch where it's the only member.\n",
        "img = (np.expand_dims(img,0))\n",
        "\n",
        "print(img.shape)"
      ],
      "execution_count": 26,
      "outputs": [
        {
          "output_type": "stream",
          "text": [
            "(1, 28, 28)\n"
          ],
          "name": "stdout"
        }
      ]
    },
    {
      "cell_type": "markdown",
      "metadata": {
        "id": "EQ5wLTkcCaXY"
      },
      "source": [
        "Now predict the correct label for this image:"
      ]
    },
    {
      "cell_type": "code",
      "metadata": {
        "id": "o_rzNSdrCaXY",
        "colab": {
          "base_uri": "https://localhost:8080/"
        },
        "outputId": "f2299229-2ac4-4760-88e8-9354c96d859d"
      },
      "source": [
        "predictions_single = probability_model.predict(img)\n",
        "\n",
        "print(predictions_single)"
      ],
      "execution_count": 27,
      "outputs": [
        {
          "output_type": "stream",
          "text": [
            "[[2.6279309e-05 8.1906290e-15 9.9367380e-01 1.7985813e-10 6.0856342e-03\n",
            "  2.4766424e-15 2.1431096e-04 3.2641381e-16 1.4978266e-09 9.1850084e-15]]\n"
          ],
          "name": "stdout"
        }
      ]
    },
    {
      "cell_type": "code",
      "metadata": {
        "id": "6Ai-cpLjO-3A",
        "colab": {
          "base_uri": "https://localhost:8080/",
          "height": 300
        },
        "outputId": "068be050-f70d-44dd-e427-02ed8a39c743"
      },
      "source": [
        "plot_value_array(1, predictions_single[0], test_labels)\n",
        "_ = plt.xticks(range(10), class_names, rotation=45)"
      ],
      "execution_count": 28,
      "outputs": [
        {
          "output_type": "display_data",
          "data": {
            "image/png": "[encoded data removed]",
            "text/plain": [
              "<Figure size 432x288 with 1 Axes>"
            ]
          },
          "metadata": {
            "tags": [],
            "needs_background": "light"
          }
        }
      ]
    },
    {
      "cell_type": "markdown",
      "metadata": {
        "id": "cU1Y2OAMCaXb"
      },
      "source": [
        "`tf.keras.Model.predict` returns a list of lists—one list for each image in the batch of data. Grab the predictions for our (only) image in the batch:"
      ]
    },
    {
      "cell_type": "code",
      "metadata": {
        "id": "2tRmdq_8CaXb",
        "colab": {
          "base_uri": "https://localhost:8080/"
        },
        "outputId": "006ff54f-371c-46bc-aa10-3c180c1cf369"
      },
      "source": [
        "np.argmax(predictions_single[0])"
      ],
      "execution_count": 29,
      "outputs": [
        {
          "output_type": "execute_result",
          "data": {
            "text/plain": [
              "2"
            ]
          },
          "metadata": {
            "tags": []
          },
          "execution_count": 29
        }
      ]
    },
    {
      "cell_type": "markdown",
      "metadata": {
        "id": "YFc2HbEVCaXd"
      },
      "source": [
        "And the model predicts a label as expected."
      ]
    },
    {
      "cell_type": "markdown",
      "metadata": {
        "id": "Tr8etJXoiQlj"
      },
      "source": [
        "###You have now learned the pattern of the basic \"Data Science Workflow\"!<br>\r\n",
        "This is the standard approach to any data science problem<br>\r\n",
        "* Get and load data\r\n",
        "* Split data into training, validation, and test data sets\r\n",
        "* No DATA SNOOPING! *Never* look at or examine the test data until after the last step (below), when you evaluate the performance of your FINAL model!\r\n",
        "* Explore and familiarize with the training data\r\n",
        "* Create or select a model\r\n",
        "* Train the model to perform well on the training data\r\n",
        "* Use the trained model to predict on the validation data\r\n",
        "* Improve or tune the model, using the validation data. Finalize the model.\r\n",
        "* Evaluate the performance of the FINAL model on the test data"
      ]
    },
    {
      "cell_type": "markdown",
      "metadata": {
        "id": "GHvTDc5_0Msz"
      },
      "source": [
        "**bold text**\r\n",
        "# Part 2. Experiments with Fashion MNIST (100 points)<br>\r\n",
        "\r\n",
        "Choose any **two** of the following experiments which are the most interesting to you, and see how the accuracy of the FashionMNIST classifier is affected in each case. <br>\r\n",
        "If it makes sense to do so, predict what you *think* will happen *before* doing the experiment. <br>\r\n",
        "Explain what you think happened *after* doing the experiment. <br>\r\n",
        "Modify this notebook with commented documenting your experiments.<br>\r\n",
        "\r\n",
        "**Experiment #1** *Change the learning rate*<br>\r\n",
        "Look up the `model.fit` method in the keras docs, and figure out how to change the `learning_rate`. Try values of `learning_rate` in [0.1, 0.01, 0.001, 0.0001, 0.00001] and make a plot of how the validation accuracy depends on the learning rate, all other things being the same.<br>\r\n",
        "\r\n",
        "**Experiment #2** *Identify the hard-to-classify items*<br>\r\n",
        "Find out the accuracy of your model as a function of clothing item. Which clothing item was the hardest to classify, i.e. most often misclassified? Were misclassified examples always confused with the same wrong clothing item, or were they confused with more than one other clothing item?  Examine a few misclassified examples of this hardest-to-classify clothing item. See if you can come up with an explanation of why the model has trouble classifying this clothing item?<br>\r\n",
        "\r\n",
        "**Experiment #3** *Add a hidden layer*<br>\r\n",
        "Look up the `model.fit` method in the keras docs, and figure out how to change the number of hidden layers in your model. Add another hidden layer to the model. How does the validation accuracy change?<br>\r\n",
        "\r\n",
        "**Experiment #4** *Change the number of neurons*<br>\r\n",
        "Look up the `model.fit` method in the keras docs, and figure out how to change the number of neurons in the hidden layer of your model. Change the number of neurons in your hidden layer to N, where N is in 32, 64, 256, 512. Determine how the validation accuracy depends on N and display your results in a plot or table.<br>\r\n",
        "\r\n",
        "**Experiment #5** *Change the number of training epochs*<br>\r\n",
        "Change the number N of training epochs systematically with N in [2, 4, 6, 8, 10, 12, 14, 16, 18, 20 ]and keep track of the resulting validation accuracy. At which N does the validation accuracy reach a maximum. Display your results in a plot or table.<br>\r\n",
        "\r\n",
        "**Experiment #6** *Reduce the amount of training data*<br>\r\n",
        "Reduce the number of training data images by N percent, where N is in [5, 10, 20, 40, 50]. How does the validation accuracy depend on N? Display your results in a plot or table.<br>\r\n",
        "\r\n",
        "**Experiment #7** *Data Augmentation*<br>\r\n",
        "Add horizontally \"flipped versions\" of the training images to the training set. How does the validation accuracy of your model change?<br>\r\n",
        "\r\n",
        "**Experiment #8** *Downsample the images*<br>\r\n",
        "Downsample all the images by a factor of 2, and see how the validation accuracy of your model changes.<br>\r\n",
        "\r\n",
        "**Experiment #9** *Add noise to the images*<br>\r\n",
        "Replace a number N of randomly chosen pixels in each training image by random numbers between 0 and 255, for N = 10, 20, 20, 30, 40, 50. How does the validation accuracy depend on N? Display your results in a plot or table.<br>\r\n",
        "\r\n"
      ]
    },
    {
      "cell_type": "markdown",
      "metadata": {
        "id": "q_cu2FBHjV8W"
      },
      "source": [
        "## Experiment #6 - *Data Reduction*\n",
        "*We will reduce the test data by N percent and deteremine how the validation accuracy of the model depends on N. Our hypothesis is that if we reduce the training data, the validation accuracy will decrease.*"
      ]
    },
    {
      "cell_type": "markdown",
      "metadata": {
        "id": "B1W3ozBv2zca"
      },
      "source": [
        "### When the data is reduced by 5%"
      ]
    },
    {
      "cell_type": "code",
      "metadata": {
        "id": "aQdoxSIu4DEV"
      },
      "source": [
        "train_images05 = train_images[:57000]"
      ],
      "execution_count": 52,
      "outputs": []
    },
    {
      "cell_type": "code",
      "metadata": {
        "id": "L59BWQ5D4JU2"
      },
      "source": [
        "train_images05 = train_images[:57000]\n",
        "train_labels05 = train_labels[:57000]"
      ],
      "execution_count": 53,
      "outputs": []
    },
    {
      "cell_type": "code",
      "metadata": {
        "colab": {
          "base_uri": "https://localhost:8080/"
        },
        "id": "dXIP_QHGYiUu",
        "outputId": "1517b8f7-a85b-4e75-99d3-e48c812c767c"
      },
      "source": [
        "model.fit(train_images05, train_labels05, epochs=10)"
      ],
      "execution_count": 54,
      "outputs": [
        {
          "output_type": "stream",
          "text": [
            "Epoch 1/10\n",
            "1782/1782 [==============================] - 4s 2ms/step - loss: 0.1572 - accuracy: 0.9480\n",
            "Epoch 2/10\n",
            "1782/1782 [==============================] - 4s 2ms/step - loss: 0.1343 - accuracy: 0.9534\n",
            "Epoch 3/10\n",
            "1782/1782 [==============================] - 4s 2ms/step - loss: 0.1253 - accuracy: 0.9562\n",
            "Epoch 4/10\n",
            "1782/1782 [==============================] - 4s 2ms/step - loss: 0.1178 - accuracy: 0.9583\n",
            "Epoch 5/10\n",
            "1782/1782 [==============================] - 4s 2ms/step - loss: 0.1147 - accuracy: 0.9590\n",
            "Epoch 6/10\n",
            "1782/1782 [==============================] - 4s 2ms/step - loss: 0.1096 - accuracy: 0.9615\n",
            "Epoch 7/10\n",
            "1782/1782 [==============================] - 4s 2ms/step - loss: 0.1083 - accuracy: 0.9609\n",
            "Epoch 8/10\n",
            "1782/1782 [==============================] - 4s 2ms/step - loss: 0.1040 - accuracy: 0.9622\n",
            "Epoch 9/10\n",
            "1782/1782 [==============================] - 4s 2ms/step - loss: 0.1017 - accuracy: 0.9624\n",
            "Epoch 10/10\n",
            "1782/1782 [==============================] - 4s 2ms/step - loss: 0.0987 - accuracy: 0.9645\n"
          ],
          "name": "stdout"
        },
        {
          "output_type": "execute_result",
          "data": {
            "text/plain": [
              "<tensorflow.python.keras.callbacks.History at 0x7f0256d29198>"
            ]
          },
          "metadata": {
            "tags": []
          },
          "execution_count": 54
        }
      ]
    },
    {
      "cell_type": "code",
      "metadata": {
        "colab": {
          "base_uri": "https://localhost:8080/"
        },
        "id": "WkrilOxsY-k7",
        "outputId": "144e4afe-b388-409e-af92-b86c0d8d16f7"
      },
      "source": [
        "test_loss, test_acc = model.evaluate(test_images,  test_labels, verbose=2)\n",
        "\n",
        "print('\\nTest accuracy:', test_acc)"
      ],
      "execution_count": 55,
      "outputs": [
        {
          "output_type": "stream",
          "text": [
            "313/313 - 0s - loss: 0.5018 - accuracy: 0.8851\n",
            "\n",
            "Test accuracy: 0.8851000070571899\n"
          ],
          "name": "stdout"
        }
      ]
    },
    {
      "cell_type": "markdown",
      "metadata": {
        "id": "bOfqoeievChf"
      },
      "source": [
        "### When the data is reduced by 10%"
      ]
    },
    {
      "cell_type": "code",
      "metadata": {
        "id": "rbfWKi55jZIM"
      },
      "source": [
        "train_images10 = train_images[:54000]\n",
        "train_labels10 = train_labels[:54000]"
      ],
      "execution_count": 31,
      "outputs": []
    },
    {
      "cell_type": "code",
      "metadata": {
        "colab": {
          "base_uri": "https://localhost:8080/"
        },
        "id": "cIConsN6w5HU",
        "outputId": "fca77cab-494e-4352-f7a9-6d6701fe1e72"
      },
      "source": [
        "model.fit(train_images10, train_labels10, epochs=10)"
      ],
      "execution_count": 32,
      "outputs": [
        {
          "output_type": "stream",
          "text": [
            "Epoch 1/10\n",
            "1688/1688 [==============================] - 4s 2ms/step - loss: 0.2296 - accuracy: 0.9143\n",
            "Epoch 2/10\n",
            "1688/1688 [==============================] - 4s 2ms/step - loss: 0.2213 - accuracy: 0.9169\n",
            "Epoch 3/10\n",
            "1688/1688 [==============================] - 4s 2ms/step - loss: 0.2156 - accuracy: 0.9181\n",
            "Epoch 4/10\n",
            "1688/1688 [==============================] - 4s 2ms/step - loss: 0.2076 - accuracy: 0.9229\n",
            "Epoch 5/10\n",
            "1688/1688 [==============================] - 4s 2ms/step - loss: 0.2021 - accuracy: 0.9249\n",
            "Epoch 6/10\n",
            "1688/1688 [==============================] - 4s 2ms/step - loss: 0.1967 - accuracy: 0.9257\n",
            "Epoch 7/10\n",
            "1688/1688 [==============================] - 4s 2ms/step - loss: 0.1916 - accuracy: 0.9281\n",
            "Epoch 8/10\n",
            "1688/1688 [==============================] - 4s 2ms/step - loss: 0.1852 - accuracy: 0.9303\n",
            "Epoch 9/10\n",
            "1688/1688 [==============================] - 4s 2ms/step - loss: 0.1820 - accuracy: 0.9320\n",
            "Epoch 10/10\n",
            "1688/1688 [==============================] - 4s 2ms/step - loss: 0.1745 - accuracy: 0.9345\n"
          ],
          "name": "stdout"
        },
        {
          "output_type": "execute_result",
          "data": {
            "text/plain": [
              "<tensorflow.python.keras.callbacks.History at 0x7f02649fb278>"
            ]
          },
          "metadata": {
            "tags": []
          },
          "execution_count": 32
        }
      ]
    },
    {
      "cell_type": "code",
      "metadata": {
        "colab": {
          "base_uri": "https://localhost:8080/"
        },
        "id": "8jQ3GgLN14pJ",
        "outputId": "811cc660-4ad2-439d-dc45-3beb86ce4c74"
      },
      "source": [
        "test_loss, test_acc = model.evaluate(test_images,  test_labels, verbose=2)\n",
        "\n",
        "print('\\nTest accuracy:', test_acc)"
      ],
      "execution_count": 33,
      "outputs": [
        {
          "output_type": "stream",
          "text": [
            "313/313 - 0s - loss: 0.3745 - accuracy: 0.8782\n",
            "\n",
            "Test accuracy: 0.8781999945640564\n"
          ],
          "name": "stdout"
        }
      ]
    },
    {
      "cell_type": "markdown",
      "metadata": {
        "id": "RLG4NVDr3GKU"
      },
      "source": [
        "### When the data is reduced by 20%\n",
        "\n"
      ]
    },
    {
      "cell_type": "code",
      "metadata": {
        "id": "fTPlJcHr3Phq"
      },
      "source": [
        "train_images20 = train_images[:48000]\n",
        "train_labels20 = train_labels[:48000]"
      ],
      "execution_count": 35,
      "outputs": []
    },
    {
      "cell_type": "code",
      "metadata": {
        "id": "lFmgZJ1j3aTI",
        "colab": {
          "base_uri": "https://localhost:8080/"
        },
        "outputId": "818263ea-2a8d-4ffb-b1e3-91f21266158e"
      },
      "source": [
        "model.fit(train_images20, train_labels20, epochs=10)"
      ],
      "execution_count": 42,
      "outputs": [
        {
          "output_type": "stream",
          "text": [
            "Epoch 1/10\n",
            "1500/1500 [==============================] - 3s 2ms/step - loss: 0.1481 - accuracy: 0.9475\n",
            "Epoch 2/10\n",
            "1500/1500 [==============================] - 2s 2ms/step - loss: 0.1305 - accuracy: 0.9521\n",
            "Epoch 3/10\n",
            "1500/1500 [==============================] - 3s 2ms/step - loss: 0.1261 - accuracy: 0.9536\n",
            "Epoch 4/10\n",
            "1500/1500 [==============================] - 3s 2ms/step - loss: 0.1231 - accuracy: 0.9551\n",
            "Epoch 5/10\n",
            "1500/1500 [==============================] - 3s 2ms/step - loss: 0.1171 - accuracy: 0.9567\n",
            "Epoch 6/10\n",
            "1500/1500 [==============================] - 2s 2ms/step - loss: 0.1140 - accuracy: 0.9579\n",
            "Epoch 7/10\n",
            "1500/1500 [==============================] - 3s 2ms/step - loss: 0.1122 - accuracy: 0.9589\n",
            "Epoch 8/10\n",
            "1500/1500 [==============================] - 3s 2ms/step - loss: 0.1099 - accuracy: 0.9596\n",
            "Epoch 9/10\n",
            "1500/1500 [==============================] - 2s 2ms/step - loss: 0.1070 - accuracy: 0.9605\n",
            "Epoch 10/10\n",
            "1500/1500 [==============================] - 2s 2ms/step - loss: 0.1072 - accuracy: 0.9596\n"
          ],
          "name": "stdout"
        },
        {
          "output_type": "execute_result",
          "data": {
            "text/plain": [
              "<tensorflow.python.keras.callbacks.History at 0x7f02a4ec8748>"
            ]
          },
          "metadata": {
            "tags": []
          },
          "execution_count": 42
        }
      ]
    },
    {
      "cell_type": "code",
      "metadata": {
        "id": "GzR5yH7j3d3-",
        "colab": {
          "base_uri": "https://localhost:8080/"
        },
        "outputId": "941fbeaa-3d89-4a68-a498-c2ca05388951"
      },
      "source": [
        "test_loss, test_acc = model.evaluate(test_images,  test_labels, verbose=2)\n",
        "\n",
        "print('\\nTest accuracy:', test_acc)"
      ],
      "execution_count": 43,
      "outputs": [
        {
          "output_type": "stream",
          "text": [
            "313/313 - 0s - loss: 0.4836 - accuracy: 0.8867\n",
            "\n",
            "Test accuracy: 0.8866999745368958\n"
          ],
          "name": "stdout"
        }
      ]
    },
    {
      "cell_type": "markdown",
      "metadata": {
        "id": "rtYka96n3oZk"
      },
      "source": [
        "### When the data is reduced by 40%"
      ]
    },
    {
      "cell_type": "code",
      "metadata": {
        "id": "ve1gmc5W59pt"
      },
      "source": [
        "train_images40 = train_images[:36000]\n",
        "train_labels40 = train_labels[:36000]"
      ],
      "execution_count": 36,
      "outputs": []
    },
    {
      "cell_type": "code",
      "metadata": {
        "id": "anG7wyUi6PHf",
        "colab": {
          "base_uri": "https://localhost:8080/"
        },
        "outputId": "61039337-92db-4a65-fdf6-50f8f8c9a571"
      },
      "source": [
        "model.fit(train_images40, train_labels40, epochs=10)"
      ],
      "execution_count": 37,
      "outputs": [
        {
          "output_type": "stream",
          "text": [
            "Epoch 1/10\n",
            "1125/1125 [==============================] - 2s 2ms/step - loss: 0.1718 - accuracy: 0.9352\n",
            "Epoch 2/10\n",
            "1125/1125 [==============================] - 2s 2ms/step - loss: 0.1632 - accuracy: 0.9389\n",
            "Epoch 3/10\n",
            "1125/1125 [==============================] - 2s 2ms/step - loss: 0.1552 - accuracy: 0.9431\n",
            "Epoch 4/10\n",
            "1125/1125 [==============================] - 2s 2ms/step - loss: 0.1521 - accuracy: 0.9426\n",
            "Epoch 5/10\n",
            "1125/1125 [==============================] - 2s 2ms/step - loss: 0.1474 - accuracy: 0.9451\n",
            "Epoch 6/10\n",
            "1125/1125 [==============================] - 2s 2ms/step - loss: 0.1442 - accuracy: 0.9456\n",
            "Epoch 7/10\n",
            "1125/1125 [==============================] - 2s 2ms/step - loss: 0.1390 - accuracy: 0.9463\n",
            "Epoch 8/10\n",
            "1125/1125 [==============================] - 2s 2ms/step - loss: 0.1363 - accuracy: 0.9490\n",
            "Epoch 9/10\n",
            "1125/1125 [==============================] - 2s 2ms/step - loss: 0.1322 - accuracy: 0.9507\n",
            "Epoch 10/10\n",
            "1125/1125 [==============================] - 2s 2ms/step - loss: 0.1282 - accuracy: 0.9521\n"
          ],
          "name": "stdout"
        },
        {
          "output_type": "execute_result",
          "data": {
            "text/plain": [
              "<tensorflow.python.keras.callbacks.History at 0x7f0256de5828>"
            ]
          },
          "metadata": {
            "tags": []
          },
          "execution_count": 37
        }
      ]
    },
    {
      "cell_type": "code",
      "metadata": {
        "id": "0l10KkxR6UY_",
        "colab": {
          "base_uri": "https://localhost:8080/"
        },
        "outputId": "094cbd86-62eb-4e29-e460-d9b8f4aa9d94"
      },
      "source": [
        "test_loss, test_acc = model.evaluate(test_images,  test_labels, verbose=2)\n",
        "\n",
        "print('\\nTest accuracy:', test_acc)"
      ],
      "execution_count": 44,
      "outputs": [
        {
          "output_type": "stream",
          "text": [
            "313/313 - 0s - loss: 0.4836 - accuracy: 0.8867\n",
            "\n",
            "Test accuracy: 0.8866999745368958\n"
          ],
          "name": "stdout"
        }
      ]
    },
    {
      "cell_type": "markdown",
      "metadata": {
        "id": "8mlWMuG26mV2"
      },
      "source": [
        "### When the data is reduced by 50%"
      ]
    },
    {
      "cell_type": "code",
      "metadata": {
        "id": "J97CJEhH6qMt"
      },
      "source": [
        "train_images50 = train_images[:30000]\n",
        "train_labels50 = train_labels[:30000]"
      ],
      "execution_count": 45,
      "outputs": []
    },
    {
      "cell_type": "code",
      "metadata": {
        "colab": {
          "base_uri": "https://localhost:8080/"
        },
        "id": "gKAntWbQ6vNg",
        "outputId": "accae4db-90a9-41cf-9953-4c509621e94e"
      },
      "source": [
        "model.fit(train_images50, train_labels50, epochs=10)"
      ],
      "execution_count": 46,
      "outputs": [
        {
          "output_type": "stream",
          "text": [
            "Epoch 1/10\n",
            "938/938 [==============================] - 2s 2ms/step - loss: 0.0827 - accuracy: 0.9696\n",
            "Epoch 2/10\n",
            "938/938 [==============================] - 2s 2ms/step - loss: 0.0773 - accuracy: 0.9714\n",
            "Epoch 3/10\n",
            "938/938 [==============================] - 2s 2ms/step - loss: 0.0782 - accuracy: 0.9718\n",
            "Epoch 4/10\n",
            "938/938 [==============================] - 2s 2ms/step - loss: 0.0733 - accuracy: 0.9735\n",
            "Epoch 5/10\n",
            "938/938 [==============================] - 2s 2ms/step - loss: 0.0725 - accuracy: 0.9735\n",
            "Epoch 6/10\n",
            "938/938 [==============================] - 2s 2ms/step - loss: 0.0699 - accuracy: 0.9741\n",
            "Epoch 7/10\n",
            "938/938 [==============================] - 2s 2ms/step - loss: 0.0697 - accuracy: 0.9746\n",
            "Epoch 8/10\n",
            "938/938 [==============================] - 2s 2ms/step - loss: 0.0697 - accuracy: 0.9744\n",
            "Epoch 9/10\n",
            "938/938 [==============================] - 2s 2ms/step - loss: 0.0659 - accuracy: 0.9751\n",
            "Epoch 10/10\n",
            "938/938 [==============================] - 2s 2ms/step - loss: 0.0631 - accuracy: 0.9769\n"
          ],
          "name": "stdout"
        },
        {
          "output_type": "execute_result",
          "data": {
            "text/plain": [
              "<tensorflow.python.keras.callbacks.History at 0x7f0256e09940>"
            ]
          },
          "metadata": {
            "tags": []
          },
          "execution_count": 46
        }
      ]
    },
    {
      "cell_type": "code",
      "metadata": {
        "colab": {
          "base_uri": "https://localhost:8080/"
        },
        "id": "qkSLFr4S6zEY",
        "outputId": "8be84023-18b3-4018-ef94-bfbb65b2e38f"
      },
      "source": [
        "test_loss, test_acc = model.evaluate(test_images,  test_labels, verbose=2)\n",
        "\n",
        "print('\\nTest accuracy:', test_acc)"
      ],
      "execution_count": 47,
      "outputs": [
        {
          "output_type": "stream",
          "text": [
            "313/313 - 0s - loss: 0.5727 - accuracy: 0.8852\n",
            "\n",
            "Test accuracy: 0.885200023651123\n"
          ],
          "name": "stdout"
        }
      ]
    },
    {
      "cell_type": "markdown",
      "metadata": {
        "id": "HvcjzTyd60ue"
      },
      "source": [
        "Test Results\n",
        "\n",
        "![image.png](data:image/png;base64,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)  \n",
        "The reduction in size of the Training Data Set does not make an impact on the validation accuracy. This may be due to the high quality of the Fashion MNIST Data Set which has examples which are easy to separate. "
      ]
    },
    {
      "cell_type": "markdown",
      "metadata": {
        "id": "N_VtqGd1KSkm"
      },
      "source": [
        "## Experiment #5 - *Change in Training Epochs*\n",
        "*We will change the number of training epochs, from 2 to 20 in order to determine when the validation accuracy reaches a maximum. We do not have a hypothesis for when this will be, as we do not yet understand the mathematical significance of the epochs and how they relate to validation accuracy for this data set. However, we do expect that after some number of epochs, the accuraccy will not only reach a maximum, but it will continually decrease as the algorithm will become overtrained.*"
      ]
    },
    {
      "cell_type": "markdown",
      "metadata": {
        "id": "rBIoleHYK_OW"
      },
      "source": [
        "### Validation accuracy after 2 training epochs"
      ]
    },
    {
      "cell_type": "code",
      "metadata": {
        "id": "6v4uPZU0LnLS",
        "colab": {
          "base_uri": "https://localhost:8080/"
        },
        "outputId": "1042e90e-5a34-4472-c341-bb15a4039bae"
      },
      "source": [
        "model.fit(train_images, train_labels, epochs=2)"
      ],
      "execution_count": 56,
      "outputs": [
        {
          "output_type": "stream",
          "text": [
            "Epoch 1/2\n",
            "1875/1875 [==============================] - 3s 2ms/step - loss: 0.1176 - accuracy: 0.9580\n",
            "Epoch 2/2\n",
            "1875/1875 [==============================] - 3s 2ms/step - loss: 0.1066 - accuracy: 0.9614\n"
          ],
          "name": "stdout"
        },
        {
          "output_type": "execute_result",
          "data": {
            "text/plain": [
              "<tensorflow.python.keras.callbacks.History at 0x7f0256d297b8>"
            ]
          },
          "metadata": {
            "tags": []
          },
          "execution_count": 56
        }
      ]
    },
    {
      "cell_type": "code",
      "metadata": {
        "id": "j0p5kCVCLsHM",
        "colab": {
          "base_uri": "https://localhost:8080/"
        },
        "outputId": "9ba4d805-2ebe-4b6c-cfc8-1cc0d987635c"
      },
      "source": [
        "test_loss, test_acc = model.evaluate(test_images,  test_labels, verbose=2)\n",
        "\n",
        "print('\\nTest accuracy:', test_acc)"
      ],
      "execution_count": 57,
      "outputs": [
        {
          "output_type": "stream",
          "text": [
            "313/313 - 0s - loss: 0.5066 - accuracy: 0.8904\n",
            "\n",
            "Test accuracy: 0.8903999924659729\n"
          ],
          "name": "stdout"
        }
      ]
    },
    {
      "cell_type": "markdown",
      "metadata": {
        "id": "Yn1eUNFxLGEE"
      },
      "source": [
        "### Validation accuracy after 4 training epochs"
      ]
    },
    {
      "cell_type": "code",
      "metadata": {
        "id": "Fz9rgTQ2LuyD",
        "colab": {
          "base_uri": "https://localhost:8080/"
        },
        "outputId": "054e60f7-6bea-4450-b6d8-6f9169404d8c"
      },
      "source": [
        "model.fit(train_images, train_labels, epochs=4)"
      ],
      "execution_count": 58,
      "outputs": [
        {
          "output_type": "stream",
          "text": [
            "Epoch 1/4\n",
            "1875/1875 [==============================] - 3s 2ms/step - loss: 0.1052 - accuracy: 0.9620\n",
            "Epoch 2/4\n",
            "1875/1875 [==============================] - 3s 2ms/step - loss: 0.1021 - accuracy: 0.9627\n",
            "Epoch 3/4\n",
            "1875/1875 [==============================] - 3s 2ms/step - loss: 0.0979 - accuracy: 0.9638\n",
            "Epoch 4/4\n",
            "1875/1875 [==============================] - 3s 2ms/step - loss: 0.0957 - accuracy: 0.9650\n"
          ],
          "name": "stdout"
        },
        {
          "output_type": "execute_result",
          "data": {
            "text/plain": [
              "<tensorflow.python.keras.callbacks.History at 0x7f0256d427f0>"
            ]
          },
          "metadata": {
            "tags": []
          },
          "execution_count": 58
        }
      ]
    },
    {
      "cell_type": "code",
      "metadata": {
        "id": "1jrc4-1SL8of",
        "colab": {
          "base_uri": "https://localhost:8080/"
        },
        "outputId": "3aae538c-c0d6-46f0-f929-c208acd5d16f"
      },
      "source": [
        "test_loss, test_acc = model.evaluate(test_images,  test_labels, verbose=2)\n",
        "\n",
        "print('\\nTest accuracy:', test_acc)"
      ],
      "execution_count": 59,
      "outputs": [
        {
          "output_type": "stream",
          "text": [
            "313/313 - 0s - loss: 0.5239 - accuracy: 0.8899\n",
            "\n",
            "Test accuracy: 0.8899000287055969\n"
          ],
          "name": "stdout"
        }
      ]
    },
    {
      "cell_type": "markdown",
      "metadata": {
        "id": "BWl0B7UyLLLr"
      },
      "source": [
        "### Validation accuracy after 6 training epochs"
      ]
    },
    {
      "cell_type": "code",
      "metadata": {
        "id": "-vdNsUtdLvdT",
        "colab": {
          "base_uri": "https://localhost:8080/"
        },
        "outputId": "d761005c-5cde-4e6b-fb05-1808cd3f80ff"
      },
      "source": [
        "model.fit(train_images, train_labels, epochs=6)"
      ],
      "execution_count": 60,
      "outputs": [
        {
          "output_type": "stream",
          "text": [
            "Epoch 1/6\n",
            "1875/1875 [==============================] - 3s 2ms/step - loss: 0.0939 - accuracy: 0.9649\n",
            "Epoch 2/6\n",
            "1875/1875 [==============================] - 3s 2ms/step - loss: 0.0947 - accuracy: 0.9647\n",
            "Epoch 3/6\n",
            "1875/1875 [==============================] - 3s 2ms/step - loss: 0.0901 - accuracy: 0.9660\n",
            "Epoch 4/6\n",
            "1875/1875 [==============================] - 3s 2ms/step - loss: 0.0893 - accuracy: 0.9678\n",
            "Epoch 5/6\n",
            "1875/1875 [==============================] - 3s 2ms/step - loss: 0.0888 - accuracy: 0.9677\n",
            "Epoch 6/6\n",
            "1875/1875 [==============================] - 3s 2ms/step - loss: 0.0856 - accuracy: 0.9686\n"
          ],
          "name": "stdout"
        },
        {
          "output_type": "execute_result",
          "data": {
            "text/plain": [
              "<tensorflow.python.keras.callbacks.History at 0x7f0256dec940>"
            ]
          },
          "metadata": {
            "tags": []
          },
          "execution_count": 60
        }
      ]
    },
    {
      "cell_type": "code",
      "metadata": {
        "id": "L3TjwH1FLvTG",
        "colab": {
          "base_uri": "https://localhost:8080/"
        },
        "outputId": "b59199b4-d40b-4db1-bb08-ad82b7ade421"
      },
      "source": [
        "test_loss, test_acc = model.evaluate(test_images,  test_labels, verbose=2)\n",
        "\n",
        "print('\\nTest accuracy:', test_acc)"
      ],
      "execution_count": 61,
      "outputs": [
        {
          "output_type": "stream",
          "text": [
            "313/313 - 0s - loss: 0.5638 - accuracy: 0.8850\n",
            "\n",
            "Test accuracy: 0.8849999904632568\n"
          ],
          "name": "stdout"
        }
      ]
    },
    {
      "cell_type": "markdown",
      "metadata": {
        "id": "OnTOmLCLLMmE"
      },
      "source": [
        "### Validation accuracy after 8 training epochs"
      ]
    },
    {
      "cell_type": "code",
      "metadata": {
        "id": "EgFtPn7ULxW3",
        "colab": {
          "base_uri": "https://localhost:8080/"
        },
        "outputId": "a550d169-8738-4233-c09c-6be79ea1a751"
      },
      "source": [
        "model.fit(train_images, train_labels, epochs=8)"
      ],
      "execution_count": 62,
      "outputs": [
        {
          "output_type": "stream",
          "text": [
            "Epoch 1/8\n",
            "1875/1875 [==============================] - 3s 2ms/step - loss: 0.0840 - accuracy: 0.9695\n",
            "Epoch 2/8\n",
            "1875/1875 [==============================] - 3s 2ms/step - loss: 0.0839 - accuracy: 0.9686\n",
            "Epoch 3/8\n",
            "1875/1875 [==============================] - 3s 2ms/step - loss: 0.0820 - accuracy: 0.9700\n",
            "Epoch 4/8\n",
            "1875/1875 [==============================] - 3s 2ms/step - loss: 0.0802 - accuracy: 0.9700\n",
            "Epoch 5/8\n",
            "1875/1875 [==============================] - 3s 2ms/step - loss: 0.0803 - accuracy: 0.9700\n",
            "Epoch 6/8\n",
            "1875/1875 [==============================] - 3s 2ms/step - loss: 0.0785 - accuracy: 0.9711\n",
            "Epoch 7/8\n",
            "1875/1875 [==============================] - 3s 2ms/step - loss: 0.0778 - accuracy: 0.9712\n",
            "Epoch 8/8\n",
            "1875/1875 [==============================] - 3s 2ms/step - loss: 0.0764 - accuracy: 0.9718\n"
          ],
          "name": "stdout"
        },
        {
          "output_type": "execute_result",
          "data": {
            "text/plain": [
              "<tensorflow.python.keras.callbacks.History at 0x7f0256d740f0>"
            ]
          },
          "metadata": {
            "tags": []
          },
          "execution_count": 62
        }
      ]
    },
    {
      "cell_type": "code",
      "metadata": {
        "id": "cUQRcdVZL9qF",
        "colab": {
          "base_uri": "https://localhost:8080/"
        },
        "outputId": "521577d8-97b6-4076-da30-adebae778895"
      },
      "source": [
        "test_loss, test_acc = model.evaluate(test_images,  test_labels, verbose=2)\n",
        "\n",
        "print('\\nTest accuracy:', test_acc)"
      ],
      "execution_count": 63,
      "outputs": [
        {
          "output_type": "stream",
          "text": [
            "313/313 - 0s - loss: 0.5983 - accuracy: 0.8874\n",
            "\n",
            "Test accuracy: 0.8873999714851379\n"
          ],
          "name": "stdout"
        }
      ]
    },
    {
      "cell_type": "markdown",
      "metadata": {
        "id": "XcUve2trLNzu"
      },
      "source": [
        "### Validation accuracy after 10 training epochs"
      ]
    },
    {
      "cell_type": "code",
      "metadata": {
        "id": "xQP53wiYLyDw",
        "colab": {
          "base_uri": "https://localhost:8080/"
        },
        "outputId": "1dd0f8b9-bc0d-46bf-f3aa-cb0aac0f4317"
      },
      "source": [
        "model.fit(train_images, train_labels, epochs=10)"
      ],
      "execution_count": 64,
      "outputs": [
        {
          "output_type": "stream",
          "text": [
            "Epoch 1/10\n",
            "1875/1875 [==============================] - 3s 2ms/step - loss: 0.0750 - accuracy: 0.9722\n",
            "Epoch 2/10\n",
            "1875/1875 [==============================] - 3s 2ms/step - loss: 0.0722 - accuracy: 0.9737\n",
            "Epoch 3/10\n",
            "1875/1875 [==============================] - 3s 2ms/step - loss: 0.0730 - accuracy: 0.9731\n",
            "Epoch 4/10\n",
            "1875/1875 [==============================] - 3s 2ms/step - loss: 0.0709 - accuracy: 0.9746\n",
            "Epoch 5/10\n",
            "1875/1875 [==============================] - 3s 2ms/step - loss: 0.0691 - accuracy: 0.9748\n",
            "Epoch 6/10\n",
            "1875/1875 [==============================] - 3s 2ms/step - loss: 0.0704 - accuracy: 0.9738\n",
            "Epoch 7/10\n",
            "1875/1875 [==============================] - 3s 2ms/step - loss: 0.0680 - accuracy: 0.9745\n",
            "Epoch 8/10\n",
            "1875/1875 [==============================] - 3s 2ms/step - loss: 0.0676 - accuracy: 0.9748\n",
            "Epoch 9/10\n",
            "1875/1875 [==============================] - 3s 2ms/step - loss: 0.0693 - accuracy: 0.9747\n",
            "Epoch 10/10\n",
            "1875/1875 [==============================] - 3s 2ms/step - loss: 0.0658 - accuracy: 0.9754\n"
          ],
          "name": "stdout"
        },
        {
          "output_type": "execute_result",
          "data": {
            "text/plain": [
              "<tensorflow.python.keras.callbacks.History at 0x7f0256cb1240>"
            ]
          },
          "metadata": {
            "tags": []
          },
          "execution_count": 64
        }
      ]
    },
    {
      "cell_type": "code",
      "metadata": {
        "id": "SuvO-5iXL-I0",
        "colab": {
          "base_uri": "https://localhost:8080/"
        },
        "outputId": "ae251363-1398-4c05-8175-01ffe293e38e"
      },
      "source": [
        "test_loss, test_acc = model.evaluate(test_images,  test_labels, verbose=2)\n",
        "\n",
        "print('\\nTest accuracy:', test_acc)"
      ],
      "execution_count": 65,
      "outputs": [
        {
          "output_type": "stream",
          "text": [
            "313/313 - 0s - loss: 0.6945 - accuracy: 0.8826\n",
            "\n",
            "Test accuracy: 0.8826000094413757\n"
          ],
          "name": "stdout"
        }
      ]
    },
    {
      "cell_type": "markdown",
      "metadata": {
        "id": "Dd-9uuzOLPQs"
      },
      "source": [
        "### Validation accuracy after 12 training epochs"
      ]
    },
    {
      "cell_type": "code",
      "metadata": {
        "id": "Fafg_vjNL0a7",
        "colab": {
          "base_uri": "https://localhost:8080/"
        },
        "outputId": "303c368e-5afe-4c9f-e76f-6792ad060fb3"
      },
      "source": [
        "model.fit(train_images, train_labels, epochs=12)"
      ],
      "execution_count": 66,
      "outputs": [
        {
          "output_type": "stream",
          "text": [
            "Epoch 1/12\n",
            "1875/1875 [==============================] - 3s 2ms/step - loss: 0.0651 - accuracy: 0.9757\n",
            "Epoch 2/12\n",
            "1875/1875 [==============================] - 3s 2ms/step - loss: 0.0637 - accuracy: 0.9764\n",
            "Epoch 3/12\n",
            "1875/1875 [==============================] - 3s 2ms/step - loss: 0.0674 - accuracy: 0.9747\n",
            "Epoch 4/12\n",
            "1875/1875 [==============================] - 3s 2ms/step - loss: 0.0603 - accuracy: 0.9776\n",
            "Epoch 5/12\n",
            "1875/1875 [==============================] - 3s 2ms/step - loss: 0.0621 - accuracy: 0.9768\n",
            "Epoch 6/12\n",
            "1875/1875 [==============================] - 3s 2ms/step - loss: 0.0612 - accuracy: 0.9776\n",
            "Epoch 7/12\n",
            "1875/1875 [==============================] - 3s 2ms/step - loss: 0.0608 - accuracy: 0.9770\n",
            "Epoch 8/12\n",
            "1875/1875 [==============================] - 3s 2ms/step - loss: 0.0584 - accuracy: 0.9783\n",
            "Epoch 9/12\n",
            "1875/1875 [==============================] - 3s 2ms/step - loss: 0.0577 - accuracy: 0.9783\n",
            "Epoch 10/12\n",
            "1875/1875 [==============================] - 3s 2ms/step - loss: 0.0588 - accuracy: 0.9783\n",
            "Epoch 11/12\n",
            "1875/1875 [==============================] - 3s 2ms/step - loss: 0.0584 - accuracy: 0.9787\n",
            "Epoch 12/12\n",
            "1875/1875 [==============================] - 3s 2ms/step - loss: 0.0580 - accuracy: 0.9790\n"
          ],
          "name": "stdout"
        },
        {
          "output_type": "execute_result",
          "data": {
            "text/plain": [
              "<tensorflow.python.keras.callbacks.History at 0x7f0256dec7f0>"
            ]
          },
          "metadata": {
            "tags": []
          },
          "execution_count": 66
        }
      ]
    },
    {
      "cell_type": "code",
      "metadata": {
        "id": "DPD-9ep9L-uU",
        "colab": {
          "base_uri": "https://localhost:8080/"
        },
        "outputId": "8343a03b-b848-4cb4-b62f-f3774af528ce"
      },
      "source": [
        "test_loss, test_acc = model.evaluate(test_images,  test_labels, verbose=2)\n",
        "\n",
        "print('\\nTest accuracy:', test_acc)"
      ],
      "execution_count": 67,
      "outputs": [
        {
          "output_type": "stream",
          "text": [
            "313/313 - 0s - loss: 0.7469 - accuracy: 0.8876\n",
            "\n",
            "Test accuracy: 0.8876000046730042\n"
          ],
          "name": "stdout"
        }
      ]
    },
    {
      "cell_type": "markdown",
      "metadata": {
        "id": "WRR2jydVLRGz"
      },
      "source": [
        "### Validation accuracy after 14 training epochs"
      ]
    },
    {
      "cell_type": "code",
      "metadata": {
        "id": "UYDS-jPsL1W3",
        "colab": {
          "base_uri": "https://localhost:8080/"
        },
        "outputId": "356d0cc2-9072-43a9-c70e-7efee98c86ff"
      },
      "source": [
        "model.fit(train_images, train_labels, epochs=14)"
      ],
      "execution_count": 68,
      "outputs": [
        {
          "output_type": "stream",
          "text": [
            "Epoch 1/14\n",
            "1875/1875 [==============================] - 3s 2ms/step - loss: 0.0561 - accuracy: 0.9787\n",
            "Epoch 2/14\n",
            "1875/1875 [==============================] - 3s 2ms/step - loss: 0.0586 - accuracy: 0.9785\n",
            "Epoch 3/14\n",
            "1875/1875 [==============================] - 3s 2ms/step - loss: 0.0540 - accuracy: 0.9800\n",
            "Epoch 4/14\n",
            "1875/1875 [==============================] - 3s 2ms/step - loss: 0.0561 - accuracy: 0.9791\n",
            "Epoch 5/14\n",
            "1875/1875 [==============================] - 3s 2ms/step - loss: 0.0541 - accuracy: 0.9797\n",
            "Epoch 6/14\n",
            "1875/1875 [==============================] - 3s 2ms/step - loss: 0.0523 - accuracy: 0.9808\n",
            "Epoch 7/14\n",
            "1875/1875 [==============================] - 3s 2ms/step - loss: 0.0552 - accuracy: 0.9788\n",
            "Epoch 8/14\n",
            "1875/1875 [==============================] - 3s 2ms/step - loss: 0.0514 - accuracy: 0.9812\n",
            "Epoch 9/14\n",
            "1875/1875 [==============================] - 3s 2ms/step - loss: 0.0506 - accuracy: 0.9812\n",
            "Epoch 10/14\n",
            "1875/1875 [==============================] - 3s 2ms/step - loss: 0.0507 - accuracy: 0.9825\n",
            "Epoch 11/14\n",
            "1875/1875 [==============================] - 3s 2ms/step - loss: 0.0524 - accuracy: 0.9815\n",
            "Epoch 12/14\n",
            "1875/1875 [==============================] - 3s 2ms/step - loss: 0.0504 - accuracy: 0.9811\n",
            "Epoch 13/14\n",
            "1875/1875 [==============================] - 3s 2ms/step - loss: 0.0498 - accuracy: 0.9817\n",
            "Epoch 14/14\n",
            "1875/1875 [==============================] - 3s 2ms/step - loss: 0.0487 - accuracy: 0.9817\n"
          ],
          "name": "stdout"
        },
        {
          "output_type": "execute_result",
          "data": {
            "text/plain": [
              "<tensorflow.python.keras.callbacks.History at 0x7f0256de5208>"
            ]
          },
          "metadata": {
            "tags": []
          },
          "execution_count": 68
        }
      ]
    },
    {
      "cell_type": "code",
      "metadata": {
        "id": "Lk_HSVR-L_S0",
        "colab": {
          "base_uri": "https://localhost:8080/"
        },
        "outputId": "96e1886e-9677-4e63-d88a-4017b2014670"
      },
      "source": [
        "test_loss, test_acc = model.evaluate(test_images,  test_labels, verbose=2)\n",
        "\n",
        "print('\\nTest accuracy:', test_acc)"
      ],
      "execution_count": 69,
      "outputs": [
        {
          "output_type": "stream",
          "text": [
            "313/313 - 0s - loss: 0.8421 - accuracy: 0.8856\n",
            "\n",
            "Test accuracy: 0.8855999708175659\n"
          ],
          "name": "stdout"
        }
      ]
    },
    {
      "cell_type": "markdown",
      "metadata": {
        "id": "qLLrlaT5LSt_"
      },
      "source": [
        "### Validation accuracy after 16 training epochs"
      ]
    },
    {
      "cell_type": "code",
      "metadata": {
        "id": "DYq6PLq3L23M",
        "colab": {
          "base_uri": "https://localhost:8080/"
        },
        "outputId": "05c2d9e7-4324-4d99-94cf-b263a3b680ed"
      },
      "source": [
        "model.fit(train_images, train_labels, epochs=16)"
      ],
      "execution_count": 70,
      "outputs": [
        {
          "output_type": "stream",
          "text": [
            "Epoch 1/16\n",
            "1875/1875 [==============================] - 3s 2ms/step - loss: 0.0450 - accuracy: 0.9831\n",
            "Epoch 2/16\n",
            "1875/1875 [==============================] - 3s 2ms/step - loss: 0.0490 - accuracy: 0.9819\n",
            "Epoch 3/16\n",
            "1875/1875 [==============================] - 3s 2ms/step - loss: 0.0462 - accuracy: 0.9833\n",
            "Epoch 4/16\n",
            "1875/1875 [==============================] - 3s 2ms/step - loss: 0.0480 - accuracy: 0.9828\n",
            "Epoch 5/16\n",
            "1875/1875 [==============================] - 3s 2ms/step - loss: 0.0473 - accuracy: 0.9821\n",
            "Epoch 6/16\n",
            "1875/1875 [==============================] - 3s 2ms/step - loss: 0.0462 - accuracy: 0.9826\n",
            "Epoch 7/16\n",
            "1875/1875 [==============================] - 3s 2ms/step - loss: 0.0429 - accuracy: 0.9843\n",
            "Epoch 8/16\n",
            "1875/1875 [==============================] - 3s 2ms/step - loss: 0.0468 - accuracy: 0.9832\n",
            "Epoch 9/16\n",
            "1875/1875 [==============================] - 3s 2ms/step - loss: 0.0421 - accuracy: 0.9848\n",
            "Epoch 10/16\n",
            "1875/1875 [==============================] - 3s 2ms/step - loss: 0.0456 - accuracy: 0.9831\n",
            "Epoch 11/16\n",
            "1875/1875 [==============================] - 3s 2ms/step - loss: 0.0406 - accuracy: 0.9848\n",
            "Epoch 12/16\n",
            "1875/1875 [==============================] - 3s 2ms/step - loss: 0.0447 - accuracy: 0.9838\n",
            "Epoch 13/16\n",
            "1875/1875 [==============================] - 3s 2ms/step - loss: 0.0423 - accuracy: 0.9843\n",
            "Epoch 14/16\n",
            "1875/1875 [==============================] - 3s 2ms/step - loss: 0.0425 - accuracy: 0.9845\n",
            "Epoch 15/16\n",
            "1875/1875 [==============================] - 3s 2ms/step - loss: 0.0452 - accuracy: 0.9835\n",
            "Epoch 16/16\n",
            "1875/1875 [==============================] - 3s 2ms/step - loss: 0.0421 - accuracy: 0.9845\n"
          ],
          "name": "stdout"
        },
        {
          "output_type": "execute_result",
          "data": {
            "text/plain": [
              "<tensorflow.python.keras.callbacks.History at 0x7f0256d6b588>"
            ]
          },
          "metadata": {
            "tags": []
          },
          "execution_count": 70
        }
      ]
    },
    {
      "cell_type": "code",
      "metadata": {
        "id": "IPEkJ1PWMMaU",
        "colab": {
          "base_uri": "https://localhost:8080/"
        },
        "outputId": "8c7e538f-026b-4058-dfce-ceb13ad72ea7"
      },
      "source": [
        "test_loss, test_acc = model.evaluate(test_images,  test_labels, verbose=2)\n",
        "\n",
        "print('\\nTest accuracy:', test_acc)"
      ],
      "execution_count": 71,
      "outputs": [
        {
          "output_type": "stream",
          "text": [
            "313/313 - 0s - loss: 0.8983 - accuracy: 0.8867\n",
            "\n",
            "Test accuracy: 0.8866999745368958\n"
          ],
          "name": "stdout"
        }
      ]
    },
    {
      "cell_type": "markdown",
      "metadata": {
        "id": "W5kdnHC0LUNx"
      },
      "source": [
        "### Validation accuracy after 18 training epochs"
      ]
    },
    {
      "cell_type": "code",
      "metadata": {
        "id": "t4DVdoqyL4Yk",
        "colab": {
          "base_uri": "https://localhost:8080/"
        },
        "outputId": "d107a351-03df-4867-eb35-4525595184f8"
      },
      "source": [
        "model.fit(train_images, train_labels, epochs=16)"
      ],
      "execution_count": 72,
      "outputs": [
        {
          "output_type": "stream",
          "text": [
            "Epoch 1/16\n",
            "1875/1875 [==============================] - 3s 2ms/step - loss: 0.0452 - accuracy: 0.9835\n",
            "Epoch 2/16\n",
            "1875/1875 [==============================] - 3s 2ms/step - loss: 0.0383 - accuracy: 0.9857\n",
            "Epoch 3/16\n",
            "1875/1875 [==============================] - 3s 2ms/step - loss: 0.0421 - accuracy: 0.9839\n",
            "Epoch 4/16\n",
            "1875/1875 [==============================] - 3s 2ms/step - loss: 0.0404 - accuracy: 0.9852\n",
            "Epoch 5/16\n",
            "1875/1875 [==============================] - 3s 2ms/step - loss: 0.0415 - accuracy: 0.9850\n",
            "Epoch 6/16\n",
            "1875/1875 [==============================] - 3s 2ms/step - loss: 0.0407 - accuracy: 0.9851\n",
            "Epoch 7/16\n",
            "1875/1875 [==============================] - 3s 2ms/step - loss: 0.0392 - accuracy: 0.9860\n",
            "Epoch 8/16\n",
            "1875/1875 [==============================] - 3s 2ms/step - loss: 0.0403 - accuracy: 0.9851\n",
            "Epoch 9/16\n",
            "1875/1875 [==============================] - 3s 2ms/step - loss: 0.0404 - accuracy: 0.9852\n",
            "Epoch 10/16\n",
            "1875/1875 [==============================] - 3s 2ms/step - loss: 0.0388 - accuracy: 0.9857\n",
            "Epoch 11/16\n",
            "1875/1875 [==============================] - 3s 2ms/step - loss: 0.0382 - accuracy: 0.9861\n",
            "Epoch 12/16\n",
            "1875/1875 [==============================] - 3s 2ms/step - loss: 0.0352 - accuracy: 0.9867\n",
            "Epoch 13/16\n",
            "1875/1875 [==============================] - 3s 2ms/step - loss: 0.0391 - accuracy: 0.9858\n",
            "Epoch 14/16\n",
            "1875/1875 [==============================] - 3s 2ms/step - loss: 0.0385 - accuracy: 0.9865\n",
            "Epoch 15/16\n",
            "1875/1875 [==============================] - 3s 2ms/step - loss: 0.0385 - accuracy: 0.9858\n",
            "Epoch 16/16\n",
            "1875/1875 [==============================] - 3s 2ms/step - loss: 0.0375 - accuracy: 0.9862\n"
          ],
          "name": "stdout"
        },
        {
          "output_type": "execute_result",
          "data": {
            "text/plain": [
              "<tensorflow.python.keras.callbacks.History at 0x7f0256cd7940>"
            ]
          },
          "metadata": {
            "tags": []
          },
          "execution_count": 72
        }
      ]
    },
    {
      "cell_type": "code",
      "metadata": {
        "id": "xJ11HKntMM2_",
        "colab": {
          "base_uri": "https://localhost:8080/"
        },
        "outputId": "13f35e14-1459-4d72-e2ad-38d825852d46"
      },
      "source": [
        "test_loss, test_acc = model.evaluate(test_images,  test_labels, verbose=2)\n",
        "\n",
        "print('\\nTest accuracy:', test_acc)"
      ],
      "execution_count": 73,
      "outputs": [
        {
          "output_type": "stream",
          "text": [
            "313/313 - 0s - loss: 0.9716 - accuracy: 0.8826\n",
            "\n",
            "Test accuracy: 0.8826000094413757\n"
          ],
          "name": "stdout"
        }
      ]
    },
    {
      "cell_type": "code",
      "metadata": {
        "id": "Abp3DPBYnzc9"
      },
      "source": [
        ""
      ],
      "execution_count": null,
      "outputs": []
    },
    {
      "cell_type": "markdown",
      "metadata": {
        "id": "YXq_vLgeLVuU"
      },
      "source": [
        "### Validation accuracy after 20 training epochs"
      ]
    },
    {
      "cell_type": "code",
      "metadata": {
        "id": "90qzh9JYL6HA",
        "colab": {
          "base_uri": "https://localhost:8080/"
        },
        "outputId": "25c1a1d3-c776-460d-fa2b-a7f11525bc14"
      },
      "source": [
        "model.fit(train_images, train_labels, epochs=20)"
      ],
      "execution_count": 74,
      "outputs": [
        {
          "output_type": "stream",
          "text": [
            "Epoch 1/20\n",
            "1875/1875 [==============================] - 3s 2ms/step - loss: 0.0341 - accuracy: 0.9878\n",
            "Epoch 2/20\n",
            "1875/1875 [==============================] - 3s 2ms/step - loss: 0.0366 - accuracy: 0.9867\n",
            "Epoch 3/20\n",
            "1875/1875 [==============================] - 3s 2ms/step - loss: 0.0364 - accuracy: 0.9863\n",
            "Epoch 4/20\n",
            "1875/1875 [==============================] - 3s 2ms/step - loss: 0.0347 - accuracy: 0.9873\n",
            "Epoch 5/20\n",
            "1875/1875 [==============================] - 3s 2ms/step - loss: 0.0383 - accuracy: 0.9865\n",
            "Epoch 6/20\n",
            "1875/1875 [==============================] - 3s 2ms/step - loss: 0.0323 - accuracy: 0.9880\n",
            "Epoch 7/20\n",
            "1875/1875 [==============================] - 3s 2ms/step - loss: 0.0356 - accuracy: 0.9873\n",
            "Epoch 8/20\n",
            "1875/1875 [==============================] - 3s 2ms/step - loss: 0.0351 - accuracy: 0.9870\n",
            "Epoch 9/20\n",
            "1875/1875 [==============================] - 3s 2ms/step - loss: 0.0332 - accuracy: 0.9883\n",
            "Epoch 10/20\n",
            "1875/1875 [==============================] - 3s 2ms/step - loss: 0.0345 - accuracy: 0.9873\n",
            "Epoch 11/20\n",
            "1875/1875 [==============================] - 3s 2ms/step - loss: 0.0361 - accuracy: 0.9864\n",
            "Epoch 12/20\n",
            "1875/1875 [==============================] - 3s 2ms/step - loss: 0.0340 - accuracy: 0.9882\n",
            "Epoch 13/20\n",
            "1875/1875 [==============================] - 3s 2ms/step - loss: 0.0314 - accuracy: 0.9884\n",
            "Epoch 14/20\n",
            "1875/1875 [==============================] - 3s 2ms/step - loss: 0.0332 - accuracy: 0.9881\n",
            "Epoch 15/20\n",
            "1875/1875 [==============================] - 3s 2ms/step - loss: 0.0341 - accuracy: 0.9875\n",
            "Epoch 16/20\n",
            "1875/1875 [==============================] - 3s 2ms/step - loss: 0.0340 - accuracy: 0.9877\n",
            "Epoch 17/20\n",
            "1875/1875 [==============================] - 3s 2ms/step - loss: 0.0307 - accuracy: 0.9890\n",
            "Epoch 18/20\n",
            "1875/1875 [==============================] - 3s 2ms/step - loss: 0.0305 - accuracy: 0.9885\n",
            "Epoch 19/20\n",
            "1875/1875 [==============================] - 3s 2ms/step - loss: 0.0319 - accuracy: 0.9888\n",
            "Epoch 20/20\n",
            "1875/1875 [==============================] - 3s 2ms/step - loss: 0.0303 - accuracy: 0.9892\n"
          ],
          "name": "stdout"
        },
        {
          "output_type": "execute_result",
          "data": {
            "text/plain": [
              "<tensorflow.python.keras.callbacks.History at 0x7f0256d8c358>"
            ]
          },
          "metadata": {
            "tags": []
          },
          "execution_count": 74
        }
      ]
    },
    {
      "cell_type": "code",
      "metadata": {
        "id": "V11Z_j7yMNM2",
        "colab": {
          "base_uri": "https://localhost:8080/"
        },
        "outputId": "1b2e20f9-3df9-4bb4-bd46-c248f0e89c85"
      },
      "source": [
        "test_loss, test_acc = model.evaluate(test_images,  test_labels, verbose=2)\n",
        "\n",
        "print('\\nTest accuracy:', test_acc)"
      ],
      "execution_count": 75,
      "outputs": [
        {
          "output_type": "stream",
          "text": [
            "313/313 - 0s - loss: 1.0897 - accuracy: 0.8805\n",
            "\n",
            "Test accuracy: 0.8805000185966492\n"
          ],
          "name": "stdout"
        }
      ]
    },
    {
      "cell_type": "markdown",
      "metadata": {
        "id": "DCbhQ3ipkvdY"
      },
      "source": [
        ""
      ]
    },
    {
      "cell_type": "markdown",
      "metadata": {
        "id": "qD84XvRPNRP_"
      },
      "source": [
        "Test Results\n",
        "\n",
        "![image.png](data:image/png;base64,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)\n",
        "\n",
        "The increase in training epochs does not make an impact on the validation accuracy. This may be due to the high quality of the Fashion MNIST Data Set."
      ]
    },
    {
      "cell_type": "markdown",
      "metadata": {
        "id": "tEJUGpRSkv5N"
      },
      "source": [
        "# Part 3. Mini-project: MedMNIST classifier (100 points) <br>\r\n",
        "\r\n",
        "A. Set up your project folder and get the MedMNIST data\r\n",
        "* If you don't already have, [Google Drive](https://www.google.com/intl/en_in/drive/), get it. <br>\r\n",
        "\r\n",
        "* Save a copy of this notebook in Google Drive: from the File menu of this notebook, choose \"Save a Copy In Drive\" \r\n",
        "* Now you can rename your copy of the notebook to whatever name you choose\r\n",
        "* From the File menu, choose \"Locate in Drive\" to see the saved copy of the notebook in your Google Drive\r\n",
        "* Make a new folder in Google Drive called \"Colab Notebooks\"\r\n",
        "* In the \"Colab Notebooks\" folder, make a subfolder \"Make School Winter 2021 Intensive\"\r\n",
        "* Move your saved copy of the notebook file into the \"Make School Winter 2021 Intensive\" folder\r\n",
        "* Download the [MedMNIST data sets](https://zenodo.org/record/4269852) and put the files into the \"Make School Winter 2021 Intensive\" folder\r\n",
        "* Here is a notebook with [starter code](https://github.com/jcatanza/MakeIntensiveJan2021/blob/main/get_data.ipynb) to read  the MedMNIST data sets after you download them. Copy the starter code notebook into the \"Make School Winter 2021 Intensive\". \r\n",
        "\r\n",
        "B. Build and test a classifier for one of the MedMNIST data sets.\r\n",
        "* Choose one of the [MedMNIST data sets](https://zenodo.org/record/4269852). Make sure to choose a different data set than your classmates. Using this notebook as a blueprint,  build, evaluate and test a classifier for that data set.<br>\r\n",
        "\r\n",
        "* Document your code and your results in this notebook. <br>\r\n",
        "\r\n",
        "\r\n",
        "\r\n",
        "\r\n",
        "\r\n",
        "\r\n",
        "\r\n",
        "\r\n"
      ]
    },
    {
      "cell_type": "markdown",
      "metadata": {
        "id": "MhoQ0WE77laV"
      },
      "source": [
        "##### Copyright 2018 The TensorFlow Authors."
      ]
    },
    {
      "cell_type": "markdown",
      "metadata": {
        "id": "S5Uhzt6vVIB2"
      },
      "source": [
        "Original notebook from TensorFlow\n",
        "\n",
        "<table class=\"tfo-notebook-buttons\" align=\"left\">\n",
        "  <td>\n",
        "    <a target=\"_blank\" href=\"https://www.tensorflow.org/tutorials/keras/classification\"><img src=\"https://www.tensorflow.org/images/tf_logo_32px.png\" />View on TensorFlow.org</a>\n",
        "  </td>\n",
        "  <td>\n",
        "    <a target=\"_blank\" href=\"https://colab.research.google.com/github/tensorflow/docs/blob/master/site/en/tutorials/keras/classification.ipynb\"><img src=\"https://www.tensorflow.org/images/colab_logo_32px.png\" />Run in Google Colab</a>\n",
        "  </td>\n",
        "  <td>\n",
        "    <a target=\"_blank\" href=\"https://github.com/tensorflow/docs/blob/master/site/en/tutorials/keras/classification.ipynb\"><img src=\"https://www.tensorflow.org/images/GitHub-Mark-32px.png\" />View source on GitHub</a>\n",
        "  </td>\n",
        "  <td>\n",
        "    <a href=\"https://storage.googleapis.com/tensorflow_docs/docs/site/en/tutorials/keras/classification.ipynb\"><img src=\"https://www.tensorflow.org/images/download_logo_32px.png\" />Download notebook</a>\n",
        "  </td>\n",
        "</table>"
      ]
    },
    {
      "cell_type": "code",
      "metadata": {
        "id": "_ckMIh7O7s6D",
        "cellView": "form"
      },
      "source": [
        "#@title Licensed under the Apache License, Version 2.0 (the \"License\");\n",
        "# you may not use this file except in compliance with the License.\n",
        "# You may obtain a copy of the License at\n",
        "#\n",
        "# https://www.apache.org/licenses/LICENSE-2.0\n",
        "#\n",
        "# Unless required by applicable law or agreed to in writing, software\n",
        "# distributed under the License is distributed on an \"AS IS\" BASIS,\n",
        "# WITHOUT WARRANTIES OR CONDITIONS OF ANY KIND, either express or implied.\n",
        "# See the License for the specific language governing permissions and\n",
        "# limitations under the License."
      ],
      "execution_count": null,
      "outputs": []
    },
    {
      "cell_type": "code",
      "metadata": {
        "id": "vasWnqRgy1H4",
        "cellView": "form"
      },
      "source": [
        "#@title MIT License\n",
        "#\n",
        "# Copyright (c) 2017 François Chollet\n",
        "#\n",
        "# Permission is hereby granted, free of charge, to any person obtaining a\n",
        "# copy of this software and associated documentation files (the \"Software\"),\n",
        "# to deal in the Software without restriction, including without limitation\n",
        "# the rights to use, copy, modify, merge, publish, distribute, sublicense,\n",
        "# and/or sell copies of the Software, and to permit persons to whom the\n",
        "# Software is furnished to do so, subject to the following conditions:\n",
        "#\n",
        "# The above copyright notice and this permission notice shall be included in\n",
        "# all copies or substantial portions of the Software.\n",
        "#\n",
        "# THE SOFTWARE IS PROVIDED \"AS IS\", WITHOUT WARRANTY OF ANY KIND, EXPRESS OR\n",
        "# IMPLIED, INCLUDING BUT NOT LIMITED TO THE WARRANTIES OF MERCHANTABILITY,\n",
        "# FITNESS FOR A PARTICULAR PURPOSE AND NONINFRINGEMENT. IN NO EVENT SHALL\n",
        "# THE AUTHORS OR COPYRIGHT HOLDERS BE LIABLE FOR ANY CLAIM, DAMAGES OR OTHER\n",
        "# LIABILITY, WHETHER IN AN ACTION OF CONTRACT, TORT OR OTHERWISE, ARISING\n",
        "# FROM, OUT OF OR IN CONNECTION WITH THE SOFTWARE OR THE USE OR OTHER\n",
        "# DEALINGS IN THE SOFTWARE."
      ],
      "execution_count": null,
      "outputs": []
    },
    {
      "cell_type": "markdown",
      "metadata": {
        "id": "XlIEDR5CRQ6N"
      },
      "source": [
        "# PathMNIST Classifier\n"
      ]
    },
    {
      "cell_type": "markdown",
      "metadata": {
        "id": "-9I56N3gR_H6"
      },
      "source": [
        "This is how we will read the data sets in our code:"
      ]
    },
    {
      "cell_type": "code",
      "metadata": {
        "colab": {
          "base_uri": "https://localhost:8080/"
        },
        "id": "u6LN8fOrSGEN",
        "outputId": "a76754e3-d0eb-4b10-e084-4e9765219634"
      },
      "source": [
        "from google.colab import drive\n",
        "\n",
        "drive.mount('/content/drive')"
      ],
      "execution_count": null,
      "outputs": [
        {
          "output_type": "stream",
          "text": [
            "Mounted at /content/drive\n"
          ],
          "name": "stdout"
        }
      ]
    },
    {
      "cell_type": "code",
      "metadata": {
        "colab": {
          "base_uri": "https://localhost:8080/"
        },
        "id": "RMNTuZpNSTPL",
        "outputId": "976872d6-fc31-4817-a135-862683da1e9c"
      },
      "source": [
        "# If Salo\n",
        "# %cd '/content/drive/MyDrive/ColabNotebooks/Winter_Int_2021/'\n",
        "\n",
        "# If Liz\n",
        "%cd '/content/drive/My Drive/ColabNotebooks/Winter_Int_2021/'\n",
        "\n",
        "# Then\n",
        "%ls  "
      ],
      "execution_count": null,
      "outputs": [
        {
          "output_type": "stream",
          "text": [
            "/content/drive/My Drive/ColabNotebooks/Winter_Int_2021\n",
            " breastmnist.npz                                  pathmnist.npz\n",
            "'Liz Copy of Main_Data_Science_Intensive.ipynb'   retinamnist.npz\n"
          ],
          "name": "stdout"
        }
      ]
    },
    {
      "cell_type": "markdown",
      "metadata": {
        "id": "IgWA9KQjS7s0"
      },
      "source": [
        "We need to import numpy as the datasets are in a compressed numpy file format and we need to open them."
      ]
    },
    {
      "cell_type": "code",
      "metadata": {
        "id": "Rl0qqZXhTCW8"
      },
      "source": [
        "import numpy as np\n",
        "import os"
      ],
      "execution_count": null,
      "outputs": []
    },
    {
      "cell_type": "markdown",
      "metadata": {
        "id": "MzxLhDPmUsbF"
      },
      "source": [
        "The datasets are then stored into a dictionary that we can acess with python in order to later be used by us."
      ]
    },
    {
      "cell_type": "code",
      "metadata": {
        "colab": {
          "base_uri": "https://localhost:8080/"
        },
        "id": "u5_pgN1VU2rt",
        "outputId": "b344bc72-a2de-4a70-905c-5aad6eaf9bcf"
      },
      "source": [
        "# make a list of the .npz files\n",
        "files = [x for x in os.listdir() if x[-4::]=='.npz']\n",
        "print('List of the MedMNIST data set files:\\n',files)\n",
        "\n",
        "# make a list of the MedMNIST data sets\n",
        "data_sets = [x[:-4] for x in os.listdir() if x[-3::]=='npz']\n",
        "print('\\n\\n','The names of the MedMNIST data sets are:\\n',data_sets)\n",
        "\n",
        "# extract the MedMNIST data sets into a dictionary named MedMNIST\n",
        "MedMNIST = {file[:-4]:np.load(file) for file in files}"
      ],
      "execution_count": null,
      "outputs": [
        {
          "output_type": "stream",
          "text": [
            "List of the MedMNIST data set files:\n",
            " ['pathmnist.npz', 'retinamnist.npz', 'breastmnist.npz']\n",
            "\n",
            "\n",
            " The names of the MedMNIST data sets are:\n",
            " ['pathmnist', 'retinamnist', 'breastmnist']\n"
          ],
          "name": "stdout"
        }
      ]
    },
    {
      "cell_type": "markdown",
      "metadata": {
        "id": "vNz0AV7xZELq"
      },
      "source": [
        "Our dictionaries contain key-value pairs, the keys being the names of the datasets. The key-value pairs actually are objects that contain dictionaries within themselves. In order to access these dictionaries, we need to access them via the \"key\" in the MedMnist dictionary as such:"
      ]
    },
    {
      "cell_type": "code",
      "metadata": {
        "colab": {
          "base_uri": "https://localhost:8080/"
        },
        "id": "7KoTPTSzZhAR",
        "outputId": "895efa94-fe11-4f78-859d-2c879b0c83d6"
      },
      "source": [
        "print('The MedMNIST dictionary entries are objects of type\\n',type(MedMNIST['pathmnist']))\n",
        "print('\\nEach such object contains a dictionary whose keys are\\n',MedMNIST['pathmnist'].files)"
      ],
      "execution_count": null,
      "outputs": [
        {
          "output_type": "stream",
          "text": [
            "The MedMNIST dictionary entries are objects of type\n",
            " <class 'numpy.lib.npyio.NpzFile'>\n",
            "\n",
            "Each such object contains a dictionary whose keys are\n",
            " ['train_images', 'val_images', 'test_images', 'train_labels', 'val_labels', 'test_labels']\n"
          ],
          "name": "stdout"
        }
      ]
    },
    {
      "cell_type": "markdown",
      "metadata": {
        "id": "2zzIBvoEZvhQ"
      },
      "source": [
        "We will now extract each dictionary individually in order to access them later. These dictionaries contain the data sets that will be used to train the neural network classifier."
      ]
    },
    {
      "cell_type": "code",
      "metadata": {
        "id": "eguZClAqZ4kt"
      },
      "source": [
        "train_labels = MedMNIST['pathmnist']['train_labels'].squeeze()\n",
        "train_images = MedMNIST['pathmnist']['train_images'][:,:,:,0]\n",
        "\n",
        "val_labels = MedMNIST['pathmnist']['val_labels'].squeeze()\n",
        "val_images = MedMNIST['pathmnist']['val_images'][:,:,:,0]\n",
        "\n",
        "test_labels = MedMNIST['pathmnist']['test_labels'].squeeze()\n",
        "test_images = MedMNIST['pathmnist']['test_images'][:,:,:,0]"
      ],
      "execution_count": null,
      "outputs": []
    },
    {
      "cell_type": "code",
      "metadata": {
        "id": "02KTU49IlkSD"
      },
      "source": [
        "# train_images_new = train_images[:,:,:,0]"
      ],
      "execution_count": null,
      "outputs": []
    },
    {
      "cell_type": "code",
      "metadata": {
        "id": "66Ielqp8lsQN"
      },
      "source": [
        "# print(train_images_new.shape)"
      ],
      "execution_count": null,
      "outputs": []
    },
    {
      "cell_type": "markdown",
      "metadata": {
        "id": "Xf5d2QDzaEB4"
      },
      "source": [
        "Now we need to check how large our data set is in order to decide whether or not we will use it. Small data sets will yield a lesser accuracy because the algorithm will not be \"trained\" as much. On another note, we need to ensure that the number of labels match the number of images, otherwise our matrix will be cardinally ambiguous and we will have an error."
      ]
    },
    {
      "cell_type": "code",
      "metadata": {
        "colab": {
          "base_uri": "https://localhost:8080/"
        },
        "id": "TuaA5MOlacyb",
        "outputId": "e02b720a-99d2-4f13-f8e9-119e082868e3"
      },
      "source": [
        "print(train_images.shape)\n",
        "print(train_labels.shape)"
      ],
      "execution_count": null,
      "outputs": [
        {
          "output_type": "stream",
          "text": [
            "(89996, 28, 28)\n",
            "(89996,)\n"
          ],
          "name": "stdout"
        }
      ]
    },
    {
      "cell_type": "code",
      "metadata": {
        "colab": {
          "base_uri": "https://localhost:8080/"
        },
        "id": "6IMC5NmyahdN",
        "outputId": "287886f0-dac0-412a-94ba-216bce2c42da"
      },
      "source": [
        "print(val_images.shape)\n",
        "print(val_labels.shape)"
      ],
      "execution_count": null,
      "outputs": [
        {
          "output_type": "stream",
          "text": [
            "(10004, 28, 28)\n",
            "(10004,)\n"
          ],
          "name": "stdout"
        }
      ]
    },
    {
      "cell_type": "code",
      "metadata": {
        "colab": {
          "base_uri": "https://localhost:8080/"
        },
        "id": "r3UWoNYnajnY",
        "outputId": "4c88b5fc-5e2f-435c-fd13-5c96abe5bcf2"
      },
      "source": [
        "print(test_images.shape)\n",
        "print(test_labels.shape)"
      ],
      "execution_count": null,
      "outputs": [
        {
          "output_type": "stream",
          "text": [
            "(7180, 28, 28)\n",
            "(7180,)\n"
          ],
          "name": "stdout"
        }
      ]
    },
    {
      "cell_type": "markdown",
      "metadata": {
        "id": "V-etoBPHal3-"
      },
      "source": [
        "In this case, we can use this dataset as it contains almost 90,000 entries for training and more than 7,000 entries for testing. Also, we are sure that the data will work as there are as many labels as there are images"
      ]
    },
    {
      "cell_type": "markdown",
      "metadata": {
        "id": "t0yPhI0dbyeQ"
      },
      "source": [
        "We will now begin to prepare the network for training. The first step is to pre-process the data. "
      ]
    },
    {
      "cell_type": "code",
      "metadata": {
        "colab": {
          "base_uri": "https://localhost:8080/",
          "height": 232
        },
        "id": "fsdl_LO3b_LZ",
        "outputId": "9c12f189-2538-482f-b809-3545378182a7"
      },
      "source": [
        "plt.figure()\n",
        "plt.imshow(train_images[89995])\n",
        "plt.colorbar()\n",
        "plt.grid(False)\n",
        "plt.show()"
      ],
      "execution_count": null,
      "outputs": [
        {
          "output_type": "error",
          "ename": "NameError",
          "evalue": "ignored",
          "traceback": [
            "\u001b[0;31m---------------------------------------------------------------------------\u001b[0m",
            "\u001b[0;31mNameError\u001b[0m                                 Traceback (most recent call last)",
            "\u001b[0;32m<ipython-input-16-563230a899c7>\u001b[0m in \u001b[0;36m<module>\u001b[0;34m()\u001b[0m\n\u001b[0;32m----> 1\u001b[0;31m \u001b[0mplt\u001b[0m\u001b[0;34m.\u001b[0m\u001b[0mfigure\u001b[0m\u001b[0;34m(\u001b[0m\u001b[0;34m)\u001b[0m\u001b[0;34m\u001b[0m\u001b[0;34m\u001b[0m\u001b[0m\n\u001b[0m\u001b[1;32m      2\u001b[0m \u001b[0mplt\u001b[0m\u001b[0;34m.\u001b[0m\u001b[0mimshow\u001b[0m\u001b[0;34m(\u001b[0m\u001b[0mtrain_images\u001b[0m\u001b[0;34m[\u001b[0m\u001b[0;36m89995\u001b[0m\u001b[0;34m]\u001b[0m\u001b[0;34m)\u001b[0m\u001b[0;34m\u001b[0m\u001b[0;34m\u001b[0m\u001b[0m\n\u001b[1;32m      3\u001b[0m \u001b[0mplt\u001b[0m\u001b[0;34m.\u001b[0m\u001b[0mcolorbar\u001b[0m\u001b[0;34m(\u001b[0m\u001b[0;34m)\u001b[0m\u001b[0;34m\u001b[0m\u001b[0;34m\u001b[0m\u001b[0m\n\u001b[1;32m      4\u001b[0m \u001b[0mplt\u001b[0m\u001b[0;34m.\u001b[0m\u001b[0mgrid\u001b[0m\u001b[0;34m(\u001b[0m\u001b[0;32mFalse\u001b[0m\u001b[0;34m)\u001b[0m\u001b[0;34m\u001b[0m\u001b[0;34m\u001b[0m\u001b[0m\n\u001b[1;32m      5\u001b[0m \u001b[0mplt\u001b[0m\u001b[0;34m.\u001b[0m\u001b[0mshow\u001b[0m\u001b[0;34m(\u001b[0m\u001b[0;34m)\u001b[0m\u001b[0;34m\u001b[0m\u001b[0;34m\u001b[0m\u001b[0m\n",
            "\u001b[0;31mNameError\u001b[0m: name 'plt' is not defined"
          ]
        }
      ]
    },
    {
      "cell_type": "markdown",
      "metadata": {
        "id": "lUF8EOfKckYe"
      },
      "source": [
        ""
      ]
    },
    {
      "cell_type": "code",
      "metadata": {
        "id": "DXO1kN1zcqeu"
      },
      "source": [
        "train_images = train_images / 255.0\n",
        "\n",
        "test_images = test_images / 255.0"
      ],
      "execution_count": null,
      "outputs": []
    },
    {
      "cell_type": "code",
      "metadata": {
        "colab": {
          "base_uri": "https://localhost:8080/",
          "height": 232
        },
        "id": "mLkFU4Recu7R",
        "outputId": "91fdef2e-9a5d-47f8-e4f0-02a2d9d51e5d"
      },
      "source": [
        "plt.figure(figsize=(10,10))\n",
        "for i in range(25):\n",
        "    plt.subplot(5,5,i+1)\n",
        "    plt.xticks([])\n",
        "    plt.yticks([])\n",
        "    plt.grid(False)\n",
        "    plt.imshow(train_images[i], cmap=plt.cm.binary)\n",
        "    plt.xlabel(\"testing\")\n",
        "plt.show()"
      ],
      "execution_count": null,
      "outputs": [
        {
          "output_type": "error",
          "ename": "NameError",
          "evalue": "ignored",
          "traceback": [
            "\u001b[0;31m---------------------------------------------------------------------------\u001b[0m",
            "\u001b[0;31mNameError\u001b[0m                                 Traceback (most recent call last)",
            "\u001b[0;32m<ipython-input-19-9c3690057ce8>\u001b[0m in \u001b[0;36m<module>\u001b[0;34m()\u001b[0m\n\u001b[0;32m----> 1\u001b[0;31m \u001b[0mplt\u001b[0m\u001b[0;34m.\u001b[0m\u001b[0mfigure\u001b[0m\u001b[0;34m(\u001b[0m\u001b[0mfigsize\u001b[0m\u001b[0;34m=\u001b[0m\u001b[0;34m(\u001b[0m\u001b[0;36m10\u001b[0m\u001b[0;34m,\u001b[0m\u001b[0;36m10\u001b[0m\u001b[0;34m)\u001b[0m\u001b[0;34m)\u001b[0m\u001b[0;34m\u001b[0m\u001b[0;34m\u001b[0m\u001b[0m\n\u001b[0m\u001b[1;32m      2\u001b[0m \u001b[0;32mfor\u001b[0m \u001b[0mi\u001b[0m \u001b[0;32min\u001b[0m \u001b[0mrange\u001b[0m\u001b[0;34m(\u001b[0m\u001b[0;36m25\u001b[0m\u001b[0;34m)\u001b[0m\u001b[0;34m:\u001b[0m\u001b[0;34m\u001b[0m\u001b[0;34m\u001b[0m\u001b[0m\n\u001b[1;32m      3\u001b[0m     \u001b[0mplt\u001b[0m\u001b[0;34m.\u001b[0m\u001b[0msubplot\u001b[0m\u001b[0;34m(\u001b[0m\u001b[0;36m5\u001b[0m\u001b[0;34m,\u001b[0m\u001b[0;36m5\u001b[0m\u001b[0;34m,\u001b[0m\u001b[0mi\u001b[0m\u001b[0;34m+\u001b[0m\u001b[0;36m1\u001b[0m\u001b[0;34m)\u001b[0m\u001b[0;34m\u001b[0m\u001b[0;34m\u001b[0m\u001b[0m\n\u001b[1;32m      4\u001b[0m     \u001b[0mplt\u001b[0m\u001b[0;34m.\u001b[0m\u001b[0mxticks\u001b[0m\u001b[0;34m(\u001b[0m\u001b[0;34m[\u001b[0m\u001b[0;34m]\u001b[0m\u001b[0;34m)\u001b[0m\u001b[0;34m\u001b[0m\u001b[0;34m\u001b[0m\u001b[0m\n\u001b[1;32m      5\u001b[0m     \u001b[0mplt\u001b[0m\u001b[0;34m.\u001b[0m\u001b[0myticks\u001b[0m\u001b[0;34m(\u001b[0m\u001b[0;34m[\u001b[0m\u001b[0;34m]\u001b[0m\u001b[0;34m)\u001b[0m\u001b[0;34m\u001b[0m\u001b[0;34m\u001b[0m\u001b[0m\n",
            "\u001b[0;31mNameError\u001b[0m: name 'plt' is not defined"
          ]
        }
      ]
    },
    {
      "cell_type": "markdown",
      "metadata": {
        "id": "NfDPmMBSdUQm"
      },
      "source": [
        "In order to set up a neural network, we need to first make layers. Layers extract information for the model to use at a later step. We can have as many or as little layers as we decide are necessary for creating models."
      ]
    },
    {
      "cell_type": "code",
      "metadata": {
        "id": "MUdXn67mdTC5"
      },
      "source": [
        "model = tf.keras.Sequential([\n",
        "    tf.keras.layers.Flatten(input_shape=(28, 28)),\n",
        "    tf.keras.layers.Dense(128, activation='relu'),\n",
        "    tf.keras.layers.Dense(10)\n",
        "])"
      ],
      "execution_count": null,
      "outputs": []
    },
    {
      "cell_type": "markdown",
      "metadata": {
        "id": "yzjRwmIrdoNS"
      },
      "source": [
        "Before the model is ready, we need a way to tweak it in order to optimize its performance and accuracy rate. These \"settings\" are aded during the compiling phase of building a model.\n"
      ]
    },
    {
      "cell_type": "code",
      "metadata": {
        "id": "-Sq9goPZd_ku"
      },
      "source": [
        "model.compile(optimizer='adam',\n",
        "              loss=tf.keras.losses.SparseCategoricalCrossentropy(from_logits=True),\n",
        "              metrics=['accuracy'])"
      ],
      "execution_count": null,
      "outputs": []
    },
    {
      "cell_type": "markdown",
      "metadata": {
        "id": "B-Ra3ejMeNF8"
      },
      "source": [
        "Now we can begin to train the model. In order to do so, we must use the fit method which will give the data to the model. It will also display the loss function, which will become minimized the more training the model has, and the accuracy which will determine approximately how accurate the model is when classifying data."
      ]
    },
    {
      "cell_type": "code",
      "metadata": {
        "colab": {
          "base_uri": "https://localhost:8080/"
        },
        "id": "vVu9MW1Qedgm",
        "outputId": "ce304866-5bde-4b11-d980-f19a89f083c3"
      },
      "source": [
        "model.fit(train_images, train_labels, epochs=10)"
      ],
      "execution_count": null,
      "outputs": [
        {
          "output_type": "stream",
          "text": [
            "Epoch 1/10\n",
            "2813/2813 [==============================] - 5s 2ms/step - loss: 2.2141 - accuracy: 0.1358\n",
            "Epoch 2/10\n",
            "2813/2813 [==============================] - 5s 2ms/step - loss: 2.1463 - accuracy: 0.2033\n",
            "Epoch 3/10\n",
            "2813/2813 [==============================] - 5s 2ms/step - loss: 2.1014 - accuracy: 0.2447\n",
            "Epoch 4/10\n",
            "2813/2813 [==============================] - 4s 2ms/step - loss: 2.0483 - accuracy: 0.2575\n",
            "Epoch 5/10\n",
            "2813/2813 [==============================] - 4s 2ms/step - loss: 2.0107 - accuracy: 0.2777\n",
            "Epoch 6/10\n",
            "2813/2813 [==============================] - 4s 2ms/step - loss: 1.9909 - accuracy: 0.2883\n",
            "Epoch 7/10\n",
            "2813/2813 [==============================] - 4s 2ms/step - loss: 1.9782 - accuracy: 0.2897\n",
            "Epoch 8/10\n",
            "2813/2813 [==============================] - 4s 2ms/step - loss: 1.9690 - accuracy: 0.2972\n",
            "Epoch 9/10\n",
            "2813/2813 [==============================] - 4s 2ms/step - loss: 1.9637 - accuracy: 0.2976\n",
            "Epoch 10/10\n",
            "2813/2813 [==============================] - 4s 2ms/step - loss: 1.9552 - accuracy: 0.3001\n"
          ],
          "name": "stdout"
        },
        {
          "output_type": "execute_result",
          "data": {
            "text/plain": [
              "<tensorflow.python.keras.callbacks.History at 0x7f5384022d68>"
            ]
          },
          "metadata": {
            "tags": []
          },
          "execution_count": 24
        }
      ]
    },
    {
      "cell_type": "markdown",
      "metadata": {
        "id": "Fz0-5gmHCZIG"
      },
      "source": [
        "After training the model, we must now evaluate how well it performs on the test data set, a brand new data set that it has not been exposed to previously. This will indicate whether or not we must tweak some values in order to achieve optimal performance."
      ]
    },
    {
      "cell_type": "code",
      "metadata": {
        "id": "cA-T9fbOCqap",
        "colab": {
          "base_uri": "https://localhost:8080/"
        },
        "outputId": "6a2e8654-64c9-4312-843f-e7540588e384"
      },
      "source": [
        "test_loss, test_acc = model.evaluate(test_images,  test_labels, verbose=2)\n",
        "\n",
        "print('\\nTest accuracy:', test_acc)"
      ],
      "execution_count": null,
      "outputs": [
        {
          "output_type": "stream",
          "text": [
            "225/225 - 0s - loss: 1.7087 - accuracy: 0.4733\n",
            "\n",
            "Test accuracy: 0.4732590615749359\n"
          ],
          "name": "stdout"
        }
      ]
    },
    {
      "cell_type": "markdown",
      "metadata": {
        "id": "FeN0qdYkDEn7"
      },
      "source": [
        "After evaluating our trained model, we can visualize how it predicts the classification of images. It does this by estimating the likelihood that an image belongs in every category, and then choosing the outcome with the highest likelihood."
      ]
    },
    {
      "cell_type": "code",
      "metadata": {
        "id": "2bcOHxIADQzl"
      },
      "source": [
        "probability_model = tf.keras.Sequential([model, tf.keras.layers.Softmax()])\n",
        "predictions = probability_model.predict(test_images)"
      ],
      "execution_count": null,
      "outputs": []
    },
    {
      "cell_type": "markdown",
      "metadata": {
        "id": "GNDsDVpTDZl5"
      },
      "source": [
        "Here, by changing the number in the parameter of the function (0) we can test the model with different data points."
      ]
    },
    {
      "cell_type": "code",
      "metadata": {
        "id": "RNmnAeh9DjUb",
        "colab": {
          "base_uri": "https://localhost:8080/"
        },
        "outputId": "0065e254-6023-4510-83d6-40b5619fa5be"
      },
      "source": [
        "predictions[0]"
      ],
      "execution_count": null,
      "outputs": [
        {
          "output_type": "execute_result",
          "data": {
            "text/plain": [
              "array([1.8786151e-02, 1.5399267e-01, 1.0965513e-01, 1.9509603e-01,\n",
              "       6.4880475e-02, 7.1654379e-02, 1.0679619e-01, 7.0248462e-02,\n",
              "       2.0889050e-01, 3.3804578e-12], dtype=float32)"
            ]
          },
          "metadata": {
            "tags": []
          },
          "execution_count": 27
        }
      ]
    },
    {
      "cell_type": "markdown",
      "metadata": {
        "id": "RCqwaxQtDlR7"
      },
      "source": [
        "As previously mentioned, the 10 numbers in the array display the confidence the model has in fitting the image to each of the categories."
      ]
    },
    {
      "cell_type": "markdown",
      "metadata": {
        "id": "qGYj8CXIDvln"
      },
      "source": [
        "The next line of code will indicate which category the network chooses. Remember to edit the number in the brackets [0] to match the number in the previous line of code."
      ]
    },
    {
      "cell_type": "code",
      "metadata": {
        "id": "mB-0ZcUKEF-t",
        "colab": {
          "base_uri": "https://localhost:8080/"
        },
        "outputId": "9f3108e0-7470-411d-a2c1-b22b19d480bc"
      },
      "source": [
        "np.argmax(predictions[0])"
      ],
      "execution_count": null,
      "outputs": [
        {
          "output_type": "execute_result",
          "data": {
            "text/plain": [
              "8"
            ]
          },
          "metadata": {
            "tags": []
          },
          "execution_count": 28
        }
      ]
    },
    {
      "cell_type": "markdown",
      "metadata": {
        "id": "Fa4KHMqsEGnL"
      },
      "source": [
        "After visualizing what category the algorithm chooses, we must reveal the true category in order to know whether the neural network chose correctly or not."
      ]
    },
    {
      "cell_type": "code",
      "metadata": {
        "id": "EXM4VHQHERqe",
        "colab": {
          "base_uri": "https://localhost:8080/"
        },
        "outputId": "45b20247-8877-463f-f7fe-807cc1330388"
      },
      "source": [
        "test_labels[0]"
      ],
      "execution_count": null,
      "outputs": [
        {
          "output_type": "execute_result",
          "data": {
            "text/plain": [
              "8"
            ]
          },
          "metadata": {
            "tags": []
          },
          "execution_count": 29
        }
      ]
    }
  ]
}